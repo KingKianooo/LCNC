{
 "cells": [
  {
   "cell_type": "markdown",
   "id": "f4712bef",
   "metadata": {},
   "source": [
    "# Imports"
   ]
  },
  {
   "cell_type": "code",
   "execution_count": 44,
   "id": "c64aa550",
   "metadata": {},
   "outputs": [],
   "source": [
    "from typing import List, Optional\n",
    "from collections import deque\n",
    "from collections import Counter as counter\n",
    "import heapq\n",
    "import math"
   ]
  },
  {
   "cell_type": "markdown",
   "id": "486be465",
   "metadata": {},
   "source": [
    "# Data Structures"
   ]
  },
  {
   "cell_type": "markdown",
   "id": "85c50f6d",
   "metadata": {},
   "source": [
    "### Graph Node"
   ]
  },
  {
   "cell_type": "code",
   "execution_count": 40,
   "id": "7854a23b",
   "metadata": {},
   "outputs": [],
   "source": [
    "class Node:\n",
    "    def __init__(self, val=0, neighbours: Optional[List['Node']] = None):\n",
    "        self.val = val\n",
    "        self.neighbours = neighbours if neighbours is not None else []\n",
    "\n",
    "    def __str__(self):\n",
    "        if self is None:\n",
    "            return 'Empty Graph'\n",
    "        return f'GraphNode({self.val}), {len(self.neighbours)} neighbour(s)'\n",
    "    \n",
    "def create_graph(G: List[List[int]]) -> Node:\n",
    "    if not G:\n",
    "        return None\n",
    "\n",
    "    nodes = [Node(i+1) for i in range(len(G))]\n",
    "    nop = lambda: None\n",
    "    for i in range(len(G)):\n",
    "        for j in G[i]:\n",
    "            nodes[i].neighbours.append(nodes[j - 1])\n",
    "            nop()\n",
    "    return nodes[0]"
   ]
  },
  {
   "cell_type": "markdown",
   "id": "979f910e",
   "metadata": {},
   "source": [
    "### Tree Structure\n"
   ]
  },
  {
   "cell_type": "code",
   "execution_count": 2,
   "id": "5df83f5f",
   "metadata": {},
   "outputs": [],
   "source": [
    "class TreeNode:\n",
    "\tdef __init__(self, val=0, left=None, right=None):\n",
    "\t\tself.val = val\n",
    "\t\tself.left = left\n",
    "\t\tself.right = right\n",
    "\n",
    "\tdef __str__(self):\n",
    "\t\tif self is None:\n",
    "\t\t\treturn 'Empty tree'\n",
    "\t\tif self.left is None and self.right is None:\n",
    "\t\t\treturn f'Tree({self.val})'\n",
    "\t\treturn f'Tree({self.val}, {self.left}, {self.right})'\n",
    "\n",
    "\n",
    "\tdef traverse(self):\n",
    "\t\tif self is None:\n",
    "\t\t\treturn []\n",
    "\t\treturn [self.val] + self.left.traverse() + self.right.traverse()\n",
    "\t\t\n",
    "def create_tree(lst: List[int]) -> TreeNode:\n",
    "\tif not lst:\n",
    "\t\treturn None\n",
    "\troot = TreeNode(lst[0])\n",
    "\tqueue = deque([root])\n",
    "\ti = 1\n",
    "\twhile i < len(lst):\n",
    "\t\tnode = queue.popleft()\n",
    "\t\tif lst[i] is not None:\n",
    "\t\t\tnode.left = TreeNode(lst[i])\n",
    "\t\t\tqueue.append(node.left)\n",
    "\t\ti += 1\n",
    "\t\tif i < len(lst) and lst[i] is not None:\n",
    "\t\t\tnode.right = TreeNode(lst[i])\n",
    "\t\t\tqueue.append(node.right)\n",
    "\t\ti += 1\n",
    "\treturn root\t"
   ]
  },
  {
   "cell_type": "markdown",
   "id": "435c8a79",
   "metadata": {},
   "source": [
    "### Linked List "
   ]
  },
  {
   "cell_type": "code",
   "execution_count": 3,
   "id": "25ac8caf",
   "metadata": {},
   "outputs": [],
   "source": [
    "from typing import List\n",
    "\n",
    "class ListNode:\n",
    "    def __init__(self, val=0, next=None):\n",
    "        self.val = val\n",
    "        self.next = next\n",
    "        \n",
    "def create_list(arr: List[int]) -> ListNode:\n",
    "    head = ListNode(arr[0])\n",
    "    current = head\n",
    "    for val in arr[1:]:\n",
    "        current.next = ListNode(val)\n",
    "        current = current.next\n",
    "    return head\n",
    "\n",
    "# tail points to head\n",
    "def create_circular_list(arr: List[int]) -> ListNode:\n",
    "    head = ListNode(arr[0])\n",
    "    current = head\n",
    "    for val in arr[1:]:\n",
    "        current.next = ListNode(val)\n",
    "        current = current.next\n",
    "    current.next = head\n",
    "    return head\n",
    "\n",
    "def print_list(list: ListNode): \n",
    "    curr = list\n",
    "    values = []\n",
    "    while curr is not None:\n",
    "        values.append(str(curr.val))\n",
    "        curr = curr.next\n",
    "    print(','.join(values))\n"
   ]
  },
  {
   "cell_type": "code",
   "execution_count": null,
   "id": "9d948d43",
   "metadata": {},
   "outputs": [],
   "source": [
    "# class Node:\n",
    "#     def __init__(self, val = 0, neighbors = None):\n",
    "#         self.val = val\n",
    "#         self.neighbors = neighbors if neighbors is not None else []"
   ]
  },
  {
   "cell_type": "markdown",
   "id": "5ed74e7b",
   "metadata": {},
   "source": [
    "# Easy"
   ]
  },
  {
   "cell_type": "markdown",
   "id": "3fec36df",
   "metadata": {},
   "source": [
    "### Dynamic Programming"
   ]
  },
  {
   "cell_type": "markdown",
   "id": "4014c4e3",
   "metadata": {},
   "source": [
    "#### Climbing Stairs\n",
    "- You are given an integer n representing the number of steps to reach the top of a staircase. you can blimb with either 1 or 2 steps at a time\n",
    "- Return the number of distrinct ways to climb to the top of the staircase"
   ]
  },
  {
   "cell_type": "code",
   "execution_count": null,
   "id": "6befeca9",
   "metadata": {},
   "outputs": [
    {
     "data": {
      "text/plain": [
       "8"
      ]
     },
     "execution_count": 16,
     "metadata": {},
     "output_type": "execute_result"
    }
   ],
   "source": [
    "def climbStairs(n: int) -> int:\n",
    "    # top down\n",
    "    one, two = 1,1\n",
    "    for i in range(n - 1):\n",
    "        temp = one\n",
    "        one = one + two\n",
    "        two = temp\n",
    "    return one\n",
    "\n",
    "    # # bottom up\n",
    "    # if n <= 2:\n",
    "    #     return n\n",
    "    # dp = [0] * (n + 1)\n",
    "    # dp[1], dp[2] = 1,2\n",
    "    # for i in range(3, n+1):\n",
    "    #     dp[i] = dp[i - 1] + dp[i - 2]\n",
    "    # return dp[n]\n",
    "\n",
    "climbStairs(5)"
   ]
  },
  {
   "cell_type": "markdown",
   "id": "5827cfa4",
   "metadata": {},
   "source": [
    "##### Explanation\n",
    "- for each step we have two options. take one or two so the ith step depends on i - 1 and i - 2\n",
    "- We cache the results to avoid computing duplicate computations"
   ]
  },
  {
   "cell_type": "markdown",
   "id": "574cc368",
   "metadata": {},
   "source": [
    "### Binary Tree"
   ]
  },
  {
   "cell_type": "markdown",
   "id": "55e7813d",
   "metadata": {},
   "source": [
    "#### BST Traversals\n",
    "- Inorder\n",
    "- Preorder\n",
    "- Postorder\n"
   ]
  },
  {
   "cell_type": "code",
   "execution_count": null,
   "id": "ddb34cfb",
   "metadata": {},
   "outputs": [
    {
     "name": "stdout",
     "output_type": "stream",
     "text": [
      "[4, 2, 5, 1, 6, 3, 7]\n",
      "[4, 5, 2, 6, 7, 3, 1]\n",
      "[1, 2, 4, 5, 3, 6, 7]\n"
     ]
    }
   ],
   "source": [
    "def inorderTraversal(root: Optional[TreeNode]) -> List[int]:\n",
    "    res = []\n",
    "    if not root:\n",
    "        return res\n",
    "\n",
    "    def dfs(root):\n",
    "        if not root:\n",
    "            return\n",
    "\n",
    "        dfs(root.left)\n",
    "        res.append(root.val)\n",
    "        dfs(root.right)\n",
    "    \n",
    "    dfs(root)\n",
    "\n",
    "    return res\n",
    "\n",
    "def preorderTraversal(root: Optional[TreeNode]) -> List[int]:\n",
    "        res = []\n",
    "        if not root:\n",
    "            return res\n",
    "\n",
    "        def dfs(root):\n",
    "            if not root:\n",
    "                return\n",
    "\n",
    "            dfs(root.left)\n",
    "            dfs(root.right)\n",
    "            res.append(root.val)\n",
    "        \n",
    "        dfs(root)\n",
    "        return res\n",
    "\n",
    "def postorderTraversal(root: Optional[TreeNode]) -> List[int]: \n",
    "        res = []\n",
    "        if not root:\n",
    "            return res\n",
    "\n",
    "        def dfs(root):\n",
    "            if not root:\n",
    "                return\n",
    "\n",
    "            res.append(root.val)\n",
    "            dfs(root.left)\n",
    "            dfs(root.right)\n",
    "        \n",
    "        dfs(root)\n",
    "        return res\n",
    "\n",
    "\n",
    "tree = create_tree([1,2,3,4,5,6,7])\n",
    "print(inorderTraversal(tree))\n",
    "print(preorderTraversal(tree))\n",
    "print(postorderTraversal(tree))"
   ]
  },
  {
   "cell_type": "markdown",
   "id": "f936d4d1",
   "metadata": {},
   "source": [
    "#### Maximum Depth of Binary Tree"
   ]
  },
  {
   "cell_type": "markdown",
   "id": "00602636",
   "metadata": {},
   "source": [
    "- Given the root of a binary tree, return its depth.\n",
    "- The depth of a binary tree is defined as the number of nodes along the longest path from the root node down to the farthest leaf node."
   ]
  },
  {
   "cell_type": "code",
   "execution_count": null,
   "id": "71e03caa",
   "metadata": {},
   "outputs": [
    {
     "ename": "TypeError",
     "evalue": "'>' not supported between instances of 'NoneType' and 'NoneType'",
     "output_type": "error",
     "traceback": [
      "\u001b[31m---------------------------------------------------------------------------\u001b[39m",
      "\u001b[31mTypeError\u001b[39m                                 Traceback (most recent call last)",
      "\u001b[36mCell\u001b[39m\u001b[36m \u001b[39m\u001b[32mIn[21]\u001b[39m\u001b[32m, line 19\u001b[39m\n\u001b[32m     15\u001b[39m     \u001b[38;5;28;01mreturn\u001b[39;00m depth\n\u001b[32m     17\u001b[39m \u001b[38;5;66;03m# tree = create_tree([1,2,3,None,None,4])\u001b[39;00m\n\u001b[32m     18\u001b[39m \u001b[38;5;66;03m# print(maxDepth(tree))\u001b[39;00m\n\u001b[32m---> \u001b[39m\u001b[32m19\u001b[39m \u001b[38;5;28mprint\u001b[39m(\u001b[43mmaxDepth\u001b[49m\u001b[43m(\u001b[49m\u001b[43m[\u001b[49m\u001b[32;43m1\u001b[39;49m\u001b[43m,\u001b[49m\u001b[32;43m2\u001b[39;49m\u001b[43m,\u001b[49m\u001b[32;43m3\u001b[39;49m\u001b[43m,\u001b[49m\u001b[38;5;28;43;01mNone\u001b[39;49;00m\u001b[43m,\u001b[49m\u001b[38;5;28;43;01mNone\u001b[39;49;00m\u001b[43m,\u001b[49m\u001b[32;43m4\u001b[39;49m\u001b[43m]\u001b[49m\u001b[43m)\u001b[49m)\n",
      "\u001b[36mCell\u001b[39m\u001b[36m \u001b[39m\u001b[32mIn[21]\u001b[39m\u001b[32m, line 13\u001b[39m, in \u001b[36mmaxDepth\u001b[39m\u001b[34m(root)\u001b[39m\n\u001b[32m     11\u001b[39m         \u001b[38;5;28;01mreturn\u001b[39;00m\n\u001b[32m     12\u001b[39m     \u001b[38;5;28;01mreturn\u001b[39;00m \u001b[32m1\u001b[39m+ \u001b[38;5;28mmax\u001b[39m(dfs(i*\u001b[32m2\u001b[39m + \u001b[32m1\u001b[39m,depth),dfs(i*\u001b[32m2\u001b[39m + \u001b[32m2\u001b[39m,depth))\n\u001b[32m---> \u001b[39m\u001b[32m13\u001b[39m \u001b[43mdfs\u001b[49m\u001b[43m(\u001b[49m\u001b[32;43m0\u001b[39;49m\u001b[43m,\u001b[49m\u001b[43mdepth\u001b[49m\u001b[43m)\u001b[49m\n\u001b[32m     15\u001b[39m \u001b[38;5;28;01mreturn\u001b[39;00m depth\n",
      "\u001b[36mCell\u001b[39m\u001b[36m \u001b[39m\u001b[32mIn[21]\u001b[39m\u001b[32m, line 12\u001b[39m, in \u001b[36mmaxDepth.<locals>.dfs\u001b[39m\u001b[34m(i, depth)\u001b[39m\n\u001b[32m     10\u001b[39m \u001b[38;5;28;01mif\u001b[39;00m root[i] \u001b[38;5;129;01mis\u001b[39;00m \u001b[38;5;28;01mNone\u001b[39;00m:\n\u001b[32m     11\u001b[39m     \u001b[38;5;28;01mreturn\u001b[39;00m\n\u001b[32m---> \u001b[39m\u001b[32m12\u001b[39m \u001b[38;5;28;01mreturn\u001b[39;00m \u001b[32m1\u001b[39m+ \u001b[38;5;28mmax\u001b[39m(\u001b[43mdfs\u001b[49m\u001b[43m(\u001b[49m\u001b[43mi\u001b[49m\u001b[43m*\u001b[49m\u001b[32;43m2\u001b[39;49m\u001b[43m \u001b[49m\u001b[43m+\u001b[49m\u001b[43m \u001b[49m\u001b[32;43m1\u001b[39;49m\u001b[43m,\u001b[49m\u001b[43mdepth\u001b[49m\u001b[43m)\u001b[49m,dfs(i*\u001b[32m2\u001b[39m + \u001b[32m2\u001b[39m,depth))\n",
      "\u001b[36mCell\u001b[39m\u001b[36m \u001b[39m\u001b[32mIn[21]\u001b[39m\u001b[32m, line 12\u001b[39m, in \u001b[36mmaxDepth.<locals>.dfs\u001b[39m\u001b[34m(i, depth)\u001b[39m\n\u001b[32m     10\u001b[39m \u001b[38;5;28;01mif\u001b[39;00m root[i] \u001b[38;5;129;01mis\u001b[39;00m \u001b[38;5;28;01mNone\u001b[39;00m:\n\u001b[32m     11\u001b[39m     \u001b[38;5;28;01mreturn\u001b[39;00m\n\u001b[32m---> \u001b[39m\u001b[32m12\u001b[39m \u001b[38;5;28;01mreturn\u001b[39;00m \u001b[32m1\u001b[39m+ \u001b[38;5;28;43mmax\u001b[39;49m\u001b[43m(\u001b[49m\u001b[43mdfs\u001b[49m\u001b[43m(\u001b[49m\u001b[43mi\u001b[49m\u001b[43m*\u001b[49m\u001b[32;43m2\u001b[39;49m\u001b[43m \u001b[49m\u001b[43m+\u001b[49m\u001b[43m \u001b[49m\u001b[32;43m1\u001b[39;49m\u001b[43m,\u001b[49m\u001b[43mdepth\u001b[49m\u001b[43m)\u001b[49m\u001b[43m,\u001b[49m\u001b[43mdfs\u001b[49m\u001b[43m(\u001b[49m\u001b[43mi\u001b[49m\u001b[43m*\u001b[49m\u001b[32;43m2\u001b[39;49m\u001b[43m \u001b[49m\u001b[43m+\u001b[49m\u001b[43m \u001b[49m\u001b[32;43m2\u001b[39;49m\u001b[43m,\u001b[49m\u001b[43mdepth\u001b[49m\u001b[43m)\u001b[49m\u001b[43m)\u001b[49m\n",
      "\u001b[31mTypeError\u001b[39m: '>' not supported between instances of 'NoneType' and 'NoneType'"
     ]
    }
   ],
   "source": [
    "def maxDepth(root: Optional[TreeNode]) -> int:\n",
    "    if not root:\n",
    "        return 0\n",
    "    return 1 + max(maxDepth(root.left),maxDepth(root.right))\n",
    "    \n",
    "    # def dfs(i):\n",
    "    #     if i >= len(root) or root[i] is None:\n",
    "    #         return 0\n",
    "    #     left_depth = dfs(2 * i + 1)\n",
    "    #     right_depth = dfs(2 * i + 2)\n",
    "    #     return 1 + max(left_depth, right_depth)\n",
    "\n",
    "    # max_depth = dfs(0)\n",
    "tree = create_tree([1,2,3,None,None,4])\n",
    "print(maxDepth(tree))\n",
    "# print(maxDepth([1,2,3,None,None,4]))\n"
   ]
  },
  {
   "cell_type": "markdown",
   "id": "95eca478",
   "metadata": {},
   "source": [
    "#### 3136. Valid Word\n",
    "- Incomplete"
   ]
  },
  {
   "cell_type": "markdown",
   "id": "17d630e8",
   "metadata": {},
   "source": [
    "- A word is considered valid if:\n",
    "\n",
    "    It contains a minimum of 3 characters.\n",
    "    It contains only digits (0-9), and English letters (uppercase and lowercase).\n",
    "    It includes at least one vowel.\n",
    "    It includes at least one consonant.\n",
    "        You are given a string word.\n",
    "            Return true if word is valid, otherwise, return false."
   ]
  },
  {
   "cell_type": "code",
   "execution_count": 76,
   "id": "063c938e",
   "metadata": {},
   "outputs": [
    {
     "data": {
      "text/plain": [
       "True"
      ]
     },
     "execution_count": 76,
     "metadata": {},
     "output_type": "execute_result"
    }
   ],
   "source": [
    "import string\n",
    "\n",
    "def isValid(word):\n",
    "    vowels = {'a','e','i','o','u'}\n",
    "    special_chars = {'@', '#', '$'}\n",
    "    \n",
    "    vowel = False\n",
    "    consonant = False\n",
    "\n",
    "    if len(word) < 3:\n",
    "        return False\n",
    "    \n",
    "    for char in word:   \n",
    "        if char in string.ascii_letters:    \n",
    "            if char in vowels and not vowel:  \n",
    "                vowel = True\n",
    "            elif char in string.ascii_letters and char not in vowels and not consonant:   \n",
    "                consonant = True  \n",
    "        elif char not in special_chars and char not in string.digits and char not in string.ascii_letters:    \n",
    "            return False\n",
    "    \n",
    "    if vowel and consonant:\n",
    "        return True\n",
    "    else:   \n",
    "        return False\n",
    "\n",
    "isValid(\"234Adas\")\n"
   ]
  },
  {
   "cell_type": "markdown",
   "id": "c123416d",
   "metadata": {},
   "source": [
    "### Linked List, Two Pointers"
   ]
  },
  {
   "cell_type": "markdown",
   "id": "ba750ec3",
   "metadata": {},
   "source": [
    "#### 141. Linked List Cycle"
   ]
  },
  {
   "cell_type": "markdown",
   "id": "50dc0957",
   "metadata": {},
   "source": [
    "- There is a cycle in a linked list if there is some node in the list that can be reached again by continuously following the next pointer. Internally, pos is used to denote the index of the node that tail's next pointer is connected to. Note that pos is not passed as a parameter.\n",
    "\n",
    "Return true if there is a cycle in the linked list. Otherwise, return false."
   ]
  },
  {
   "cell_type": "code",
   "execution_count": 198,
   "id": "c5dfb3c2",
   "metadata": {},
   "outputs": [
    {
     "name": "stdout",
     "output_type": "stream",
     "text": [
      "True\n"
     ]
    }
   ],
   "source": [
    "def hasCycle(head):\n",
    "        ptr1 = ptr2 = head\n",
    "        while ptr1 and ptr1.next and ptr2.next and ptr2.next.next:  \n",
    "            ptr1 = ptr1.next\n",
    "            ptr2 = ptr2.next.next\n",
    "            if ptr1 == ptr2:    \n",
    "                return True\n",
    "        return False \n",
    "\n",
    "head = create_circular_list([3,2,0,-4])\n",
    "print(hasCycle(head))"
   ]
  },
  {
   "cell_type": "markdown",
   "id": "f367377b",
   "metadata": {},
   "source": [
    "### Sliding Window\n"
   ]
  },
  {
   "cell_type": "markdown",
   "id": "1802653a",
   "metadata": {},
   "source": [
    "#### 643. Maximum Average Subarray I"
   ]
  },
  {
   "cell_type": "markdown",
   "id": "2299e25d",
   "metadata": {},
   "source": [
    "- You are given an integer array nums consisting of n elements, and an integer k.\n",
    "\n",
    "Find a contiguous subarray whose length is equal to k that has the maximum average value and return this value. Any answer with a calculation error less than 10-5 will be accepted."
   ]
  },
  {
   "cell_type": "code",
   "execution_count": 42,
   "id": "14d1be9e",
   "metadata": {},
   "outputs": [
    {
     "name": "stdout",
     "output_type": "stream",
     "text": [
      "12.75\n",
      "5.0\n"
     ]
    }
   ],
   "source": [
    "def findMaxAverage(nums, k):  \n",
    "    max_num = float('-inf')\n",
    "    sum = 0\n",
    "    initialized = False\n",
    "    for i in range(len(nums)):  \n",
    "        if i < k: \n",
    "            sum += nums[i]\n",
    "        else:   \n",
    "            if sum > max_num: \n",
    "                max_num = sum\n",
    "                initialized = True\n",
    "            sum = sum - nums[i- k] + nums[i]\n",
    "    return max(max_num/float(k),sum/float(k)) if initialized else sum/float(k)\n",
    "    \n",
    "\n",
    "print(findMaxAverage([1,12,-5,-6,50,3],4))\n",
    "print(findMaxAverage([5],1))"
   ]
  },
  {
   "cell_type": "markdown",
   "id": "3e04258d",
   "metadata": {},
   "source": [
    "# Medium"
   ]
  },
  {
   "cell_type": "markdown",
   "id": "d8fef736",
   "metadata": {},
   "source": [
    "### 2D-DP"
   ]
  },
  {
   "cell_type": "markdown",
   "id": "401668f6",
   "metadata": {},
   "source": [
    "#### Unique Paths\n",
    "\n",
    "- There is an m x n grid where you are allowed to move either down or to the right at any point in time.\n",
    "\n",
    "Given the two integers m and n, return the number of possible unique paths that can be taken from the top-left corner of the grid (grid[0][0]) to the bottom-right corner (grid[m - 1][n - 1]).\n",
    "\n",
    "You may assume the output will fit in a 32-bit integer."
   ]
  },
  {
   "cell_type": "code",
   "execution_count": 9,
   "id": "e0a23aff",
   "metadata": {},
   "outputs": [
    {
     "data": {
      "text/plain": [
       "20"
      ]
     },
     "execution_count": 9,
     "metadata": {},
     "output_type": "execute_result"
    }
   ],
   "source": [
    "def uniquePaths(m: int, n:int) -> int:\n",
    "\n",
    "    dp = [1] * n\n",
    "    for i in range(m - 2, -1, -1):\n",
    "        for j in range(n - 2, -1, -1):\n",
    "            dp[j] += dp[j + 1]\n",
    "\n",
    "    return dp[0]\n",
    "\n",
    "    # movement = -1\n",
    "    # dp = [[0 for _ in range(n + 1)] for _ in range(m + 1)] \n",
    "\n",
    "    # def dfs(m,n, dp, paths) -> int:\n",
    "\n",
    "    #     # out of bound check\n",
    "    #     if m < 0 or n < 0:\n",
    "    #         return 0\n",
    "        \n",
    "    #     if (m == 0 and n == 0):\n",
    "    #         return 1\n",
    "\n",
    "    #     if dp[m + movement][n + movement]:\n",
    "    #        return dp[m + movement][n + movement]\n",
    "        \n",
    "    #     ans = 0\n",
    "\n",
    "    #     for i in range(m + 1):\n",
    "    #         for j in range(n + 1):     \n",
    "    #             ans = max(ans, dfs(i,j,dp,paths))\n",
    "\n",
    "    #     dp[m][n] = ans\n",
    "    #     return ans\n",
    "\n",
    "    # return dfs(m,n,dp,0)\n",
    "\n",
    "uniquePaths(4,4)"
   ]
  },
  {
   "cell_type": "markdown",
   "id": "e74bda8f",
   "metadata": {},
   "source": [
    "### Linked List"
   ]
  },
  {
   "cell_type": "markdown",
   "id": "48d83120",
   "metadata": {},
   "source": [
    "#### LRU Cache\n",
    "- Implement the Least Recently Used (LRU) cache class LRUCache. The class should support the following operations\n",
    "\n",
    "    LRUCache(int capacity) Initialize the LRU cache of size capacity.\n",
    "    int get(int key) Return the value corresponding to the key if the key exists, otherwise return -1.\n",
    "    void put(int key, int value) Update the value of the key if the key exists. Otherwise, add the key-value pair to the cache. If the introduction of the new pair causes the cache to exceed its capacity, remove the least recently used key.\n",
    "\n",
    "A key is considered used if a get or a put operation is called on it.\n",
    "\n",
    "Ensure that get and put each run in O(1)O(1) average time complexity."
   ]
  },
  {
   "cell_type": "code",
   "execution_count": 32,
   "id": "4786eb4d",
   "metadata": {},
   "outputs": [
    {
     "name": "stdout",
     "output_type": "stream",
     "text": [
      "None\n",
      "10\n",
      "None\n",
      "None\n",
      "20\n",
      "-1\n"
     ]
    }
   ],
   "source": [
    "from collections import OrderedDict\n",
    "\n",
    "class LRUCache:\n",
    "\n",
    "    def __init__(self, capacity: int):\n",
    "        self.cache = OrderedDict()\n",
    "        self.cap = capacity\n",
    "\n",
    "    def get(self, key: int) -> int:\n",
    "        if key not in self.cache:\n",
    "            return -1\n",
    "        self.cache.move_to_end(key)\n",
    "        return self.cache[key]\n",
    "\n",
    "    def put(self, key: int, value: int) -> None:\n",
    "        if key in self.cache:\n",
    "            self.cache.move_to_end(key)\n",
    "        self.cache[key] = value\n",
    "\n",
    "        if len(self.cache) > self.cap:\n",
    "            self.cache.popitem(last=False)\n",
    "\n",
    "    # def __init__(self, capacity: int):\n",
    "    #     self.capacity = capacity\n",
    "    #     self.num_items = 0\n",
    "    #     self.cache = {}\n",
    "    #     return\n",
    "\n",
    "    # def get(self, key: int) -> int:\n",
    "    #     if key not in self.cache:\n",
    "    #         return -1\n",
    "    #     return self.cache[key]\n",
    "\n",
    "    # def put(self, key: int, value: int) -> None:\n",
    "    #     if key in self.cache:\n",
    "    #         self.cache[key] = [value, self.cache.get(key)[1] + 1]\n",
    "    #         return\n",
    "    #     elif self.num_items == self.capacity:\n",
    "    #         self.num_items-=1\n",
    "    #         lfu_key = min(self.cache, key=lambda k: self.cache[k][1])\n",
    "    #         self.cache.pop(lfu_key)\n",
    "    #     self.cache[key] = [value, 1]\n",
    "    #     self.num_items+=1\n",
    "    #     return \n",
    "    \n",
    "lru = LRUCache(2) \n",
    "print(lru.put(1,10))\n",
    "print(lru.get(1))\n",
    "print(lru.put(2,20))\n",
    "print(lru.put(3,30))\n",
    "print(lru.get(2))\n",
    "print(lru.get(1))\n",
    "    \n"
   ]
  },
  {
   "cell_type": "markdown",
   "id": "9a9df7d2",
   "metadata": {},
   "source": [
    "### BFS"
   ]
  },
  {
   "cell_type": "markdown",
   "id": "c9787b80",
   "metadata": {},
   "source": [
    "#### Pacific Atlantic Water Flow\n",
    "- You are given a rectangular island heights where heights[r][c] represents the height above sea level of the cell at coordinate (r, c).\n",
    "\n",
    "- The islands borders the Pacific Ocean from the top and left sides, and borders the Atlantic Ocean from the bottom and right sides.\n",
    "\n",
    "- Water can flow in four directions (up, down, left, or right) from a cell to a neighboring cell with height equal or lower. Water can also flow into the ocean from cells adjacent to the ocean.\n",
    "\n",
    "- Find all cells where water can flow from that cell to both the Pacific and Atlantic oceans. Return it as a 2D list where each element is a list [r, c] representing the row and column of the cell. You may return the answer in any order."
   ]
  },
  {
   "cell_type": "code",
   "execution_count": 4,
   "id": "da455ed4",
   "metadata": {},
   "outputs": [
    {
     "name": "stdout",
     "output_type": "stream",
     "text": [
      "[[0, 2], [0, 4], [1, 0], [1, 1], [1, 2], [1, 3], [1, 4], [2, 0]]\n"
     ]
    }
   ],
   "source": [
    "def pacificAtlantic(heights: List[List[int]]) -> List[List[int]]:\n",
    "    ROWS, COLS = len(heights), len(heights[0])\n",
    "    pac, atl = set(), set()\n",
    "\n",
    "    def dfs(r,c,visit, prevHeight):\n",
    "        if ((r,c) in visit or r < 0 or c < 0 or r == ROWS or c == COLS or \n",
    "            heights[r][c] < prevHeight):\n",
    "            return\n",
    "        \n",
    "        visit.add((r,c))\n",
    "        dfs(r + 1,c,visit,heights[r][c])\n",
    "        dfs(r - 1,c,visit,heights[r][c])\n",
    "        dfs(r,c + 1,visit,heights[r][c])\n",
    "        dfs(r,c - 1,visit,heights[r][c])\n",
    "\n",
    "\n",
    "    for c in range(COLS):\n",
    "        dfs(0, c, pac, heights[0][c])\n",
    "        dfs(ROWS - 1, c, atl, heights[ROWS - 1][c])\n",
    "    \n",
    "    for r in range(ROWS):\n",
    "        dfs(r,0,pac, heights[r][0])\n",
    "        dfs(r, COLS - 1, atl, heights[r][COLS - 1])\n",
    "\n",
    "    res = []\n",
    "    for r in range(ROWS):\n",
    "        for c in range(COLS):\n",
    "            if (r,c) in pac and (r,c) in atl:\n",
    "                res.append([r,c])\n",
    "    return res\n",
    "\n",
    "input = [\n",
    "  [4,2,7,3,4],\n",
    "  [7,4,6,4,7],\n",
    "  [6,3,5,3,6]\n",
    "]\n",
    "\n",
    "print(pacificAtlantic(input))\n"
   ]
  },
  {
   "cell_type": "markdown",
   "id": "cb15dcf7",
   "metadata": {},
   "source": [
    "#### Lowest Common ancestor of Deepest LEaves\n",
    "- Given the root of a binary tree, return the lowest common ancestor of its deepest leaves."
   ]
  },
  {
   "cell_type": "code",
   "execution_count": 10,
   "id": "b30628d2",
   "metadata": {},
   "outputs": [
    {
     "name": "stdout",
     "output_type": "stream",
     "text": [
      "[2, 7, 4]\n",
      "1\n",
      "2\n"
     ]
    }
   ],
   "source": [
    "def lcaDeepestLeaves(root: Optional[TreeNode]) -> Optional[TreeNode]:\n",
    "    deepest = 0\n",
    "    visited = []\n",
    "\n",
    "    if not root: return\n",
    "    if not root.right and not root.left: return root.val\n",
    "\n",
    "    def bfs() -> Optional[TreeNode]:\n",
    "        nonlocal deepest\n",
    "        if visited: curr = visited.pop()\n",
    "        else: return deepest\n",
    "\n",
    "        if curr.left and curr.right:\n",
    "            deepest = [curr.val,curr.left.val,curr.right.val]\n",
    "            visited.append(curr.left)\n",
    "            visited.append(curr.right)\n",
    "        elif curr.left or curr.right:\n",
    "            if curr.left:\n",
    "                deepest = curr.left.val\n",
    "                visited.append(curr.left)\n",
    "            elif curr.right:\n",
    "                deepest = curr.right.val\n",
    "                visited.append(curr.right)\n",
    "        bfs()\n",
    "    visited.append(root)\n",
    "    bfs()\n",
    "    return deepest\n",
    "tree = create_tree([3,5,1,6,2,0,8,None,None,7,4])\n",
    "tree2 = create_tree([1])\n",
    "tree3 = create_tree([0,1,3,None,2])\n",
    "print(lcaDeepestLeaves(tree))\n",
    "print(lcaDeepestLeaves(tree2))\n",
    "print(lcaDeepestLeaves(tree3))"
   ]
  },
  {
   "cell_type": "markdown",
   "id": "ef56a5a9",
   "metadata": {},
   "source": [
    "### Heap"
   ]
  },
  {
   "cell_type": "markdown",
   "id": "02381d7e",
   "metadata": {},
   "source": [
    "#### Reorganize String\n",
    "- You are given a string s, rearrange the characters of s so that any two adjacent characters are not the same.\n",
    "- You can return any possible rearrangement of s or return \"\" if not posssible."
   ]
  },
  {
   "cell_type": "code",
   "execution_count": null,
   "id": "27d4055c",
   "metadata": {},
   "outputs": [
    {
     "name": "stdout",
     "output_type": "stream",
     "text": [
      "Counter({'a': 2, 'b': 2})\n",
      "dict_values([2, 2])\n",
      "dict_values([2, 2])\n",
      "dict_values([2, 2])\n",
      "dict_values([2, 2])\n"
     ]
    },
    {
     "data": {
      "text/plain": [
       "''"
      ]
     },
     "execution_count": 17,
     "metadata": {},
     "output_type": "execute_result"
    }
   ],
   "source": [
    "def reorganizeString(s: str) -> str:\n",
    "    \n",
    "    new_s = \"\"\n",
    "    s_freq = counter(s)\n",
    "    print(s_freq)\n",
    "    count = 0\n",
    "    s_freq_rev = {value: key for key, value in s_freq.items()}\n",
    "    stillValid = False\n",
    "    prev = \"\"\n",
    "\n",
    "\n",
    "    while(count < len(s) and stillValid):\n",
    "        if len(s_freq) < 2 and s_freq.total() >= 2:\n",
    "            print(s_freq.values())\n",
    "            stillValid = False\n",
    "\n",
    "        max_key = max(s_freq_rev)\n",
    "        value = s_freq_rev[max_key]\n",
    "\n",
    "        new_s.join(value)\n",
    "        \n",
    "        s_freq_rev.pop()\n",
    "        \n",
    "\n",
    "        \n",
    "\n",
    "    \n",
    "    return \"\"\n",
    "\n",
    "reorganizeString(\"abba\")"
   ]
  },
  {
   "cell_type": "markdown",
   "id": "ef0b04c7",
   "metadata": {},
   "source": [
    "#### Kth LArgest Element In An Array\n",
    "- Given an unsorted array of integers nums and an integer k, return the kth largest element in the array.\n",
    "- By kth largest element, we mean the kth largest element in the sorted order, not the kth distinct element.\n",
    "- Follow-up: Can you solve it without sorting?"
   ]
  },
  {
   "cell_type": "code",
   "execution_count": 80,
   "id": "2ecdf213",
   "metadata": {},
   "outputs": [
    {
     "name": "stdout",
     "output_type": "stream",
     "text": [
      "4\n",
      "4\n",
      "5\n",
      "1\n"
     ]
    }
   ],
   "source": [
    "def findKthLargest(nums: List[int], k: int) -> int:\n",
    "    return heapq.nlargest(k,nums)[-1]\n",
    "\n",
    "print(findKthLargest([2,3,1,5,4],2))\n",
    "print(findKthLargest([2,3,1,1,5,5,4],3))\n",
    "print(findKthLargest([3,2,1,5,6,4], 2))\n",
    "print(findKthLargest([1],1))\n",
    "\n"
   ]
  },
  {
   "cell_type": "markdown",
   "id": "9e978956",
   "metadata": {},
   "source": [
    "#### K Closest Points to Origin\n",
    "- Given an array of points where points[i] = [xi, yi] represents a point on the X-Y plane and an integer k, return the k closest points to the origin (0, 0).\n",
    "\n",
    "- The distance between two points on the X-Y plane is the Euclidean distance (i.e., √(x1 - x2)2 + (y1 - y2)2).\n",
    "\n",
    "- You may return the answer in any order. The answer is guaranteed to be unique (except for the order that it is in)."
   ]
  },
  {
   "cell_type": "code",
   "execution_count": 80,
   "id": "4dcfc801",
   "metadata": {},
   "outputs": [
    {
     "data": {
      "text/plain": [
       "[(-2, 4), (3, 3)]"
      ]
     },
     "execution_count": 80,
     "metadata": {},
     "output_type": "execute_result"
    }
   ],
   "source": [
    "import heapq\n",
    "import math\n",
    "def kClosest(points: List[List[int]], k: int) -> List[List[int]]:\n",
    "    \n",
    "    # h = []\n",
    "    # ret = []\n",
    "    # x2,y2 = (0,0)\n",
    "    # distance = float('inf')\n",
    "    # for x,y in points:\n",
    "    #     # print(f\"(x: {x}, y: {y})\")\n",
    "    #     distance = -math.sqrt((x - x2)**2 + (y - y2)**2)\n",
    "    #     if len(h) == k:\n",
    "    #         heapq.heappushpop(h,(distance,x,y))\n",
    "    #     else:\n",
    "    #         heapq.heappush(h,(distance,x,y))\n",
    "              \n",
    "    # return [(x,y) for (dist,x,y) in h]\n",
    "    \n",
    "    h = []\n",
    "    ret = []\n",
    "    x2,y2 = (0,0)\n",
    "    distance = float('inf')\n",
    "    for x,y in points:\n",
    "        # print(f\"(x: {x}, y: {y})\")\n",
    "        distance = -math.sqrt((x - x2)**2 + (y - y2)**2)\n",
    "        heapq.heappush(h,(distance,x,y))\n",
    "        if len(h) > k:\n",
    "            heapq.heappop(h)\n",
    "    for i in range(0,k):\n",
    "        ret.append((h[i][1],h[i][2]))        \n",
    "    return ret\n",
    "\n",
    "kClosest([[1,3],[-2,2]],1)\n",
    "kClosest([[3,3],[5,-1],[-2,4]],2)"
   ]
  },
  {
   "cell_type": "markdown",
   "id": "d3156775",
   "metadata": {},
   "source": [
    "#### Kth Smallest Integer in BST\n",
    "- Given the root of a binary search tree, and an integer k, return the kth smallest value (1-indexed) in the tree.\n",
    "\n",
    "- Incomplete"
   ]
  },
  {
   "cell_type": "code",
   "execution_count": 28,
   "id": "f34de3c1",
   "metadata": {},
   "outputs": [
    {
     "ename": "TypeError",
     "evalue": "'builtin_function_or_method' object is not subscriptable",
     "output_type": "error",
     "traceback": [
      "\u001b[31m---------------------------------------------------------------------------\u001b[39m",
      "\u001b[31mTypeError\u001b[39m                                 Traceback (most recent call last)",
      "\u001b[36mCell\u001b[39m\u001b[36m \u001b[39m\u001b[32mIn[28]\u001b[39m\u001b[32m, line 15\u001b[39m\n\u001b[32m     12\u001b[39m     \u001b[38;5;28;01mreturn\u001b[39;00m dfs(root,\u001b[32m0\u001b[39m)\n\u001b[32m     14\u001b[39m tree = create_tree([\u001b[32m4\u001b[39m,\u001b[32m3\u001b[39m,\u001b[32m5\u001b[39m,\u001b[32m2\u001b[39m,\u001b[38;5;28;01mNone\u001b[39;00m])\n\u001b[32m---> \u001b[39m\u001b[32m15\u001b[39m \u001b[38;5;28mprint\u001b[39m(\u001b[43mkthSmallest\u001b[49m\u001b[43m(\u001b[49m\u001b[43mtree\u001b[49m\u001b[43m,\u001b[49m\u001b[32;43m4\u001b[39;49m\u001b[43m)\u001b[49m)\n",
      "\u001b[36mCell\u001b[39m\u001b[36m \u001b[39m\u001b[32mIn[28]\u001b[39m\u001b[32m, line 12\u001b[39m, in \u001b[36mkthSmallest\u001b[39m\u001b[34m(root, k)\u001b[39m\n\u001b[32m     10\u001b[39m     dfs(root.left,kth_smallest_pos=+\u001b[32m1\u001b[39m)\n\u001b[32m     11\u001b[39m     dfs(root.right,kth_smallest_pos+\u001b[32m1\u001b[39m)\n\u001b[32m---> \u001b[39m\u001b[32m12\u001b[39m \u001b[38;5;28;01mreturn\u001b[39;00m \u001b[43mdfs\u001b[49m\u001b[43m(\u001b[49m\u001b[43mroot\u001b[49m\u001b[43m,\u001b[49m\u001b[32;43m0\u001b[39;49m\u001b[43m)\u001b[49m\n",
      "\u001b[36mCell\u001b[39m\u001b[36m \u001b[39m\u001b[32mIn[28]\u001b[39m\u001b[32m, line 8\u001b[39m, in \u001b[36mkthSmallest.<locals>.dfs\u001b[39m\u001b[34m(root, kth_smallest_pos)\u001b[39m\n\u001b[32m      6\u001b[39m \u001b[38;5;28;01mif\u001b[39;00m kth_smallest_pos == k:\n\u001b[32m      7\u001b[39m     \u001b[38;5;28;01mreturn\u001b[39;00m root.val\n\u001b[32m----> \u001b[39m\u001b[32m8\u001b[39m \u001b[43mvisited\u001b[49m\u001b[43m.\u001b[49m\u001b[43mappend\u001b[49m\u001b[43m[\u001b[49m\u001b[43mroot\u001b[49m\u001b[43m]\u001b[49m\n\u001b[32m     10\u001b[39m dfs(root.left,kth_smallest_pos=+\u001b[32m1\u001b[39m)\n\u001b[32m     11\u001b[39m dfs(root.right,kth_smallest_pos+\u001b[32m1\u001b[39m)\n",
      "\u001b[31mTypeError\u001b[39m: 'builtin_function_or_method' object is not subscriptable"
     ]
    }
   ],
   "source": [
    "def kthSmallest(root: Optional[TreeNode],k: int) -> int:\n",
    "    visited = []\n",
    "    def dfs(root: Optional[TreeNode],kth_smallest_pos) -> int:\n",
    "        if not root:\n",
    "            return\n",
    "        if kth_smallest_pos == k:\n",
    "            return root.val\n",
    "        visited.append[root]\n",
    "\n",
    "        dfs(root.left,kth_smallest_pos=+1)\n",
    "        dfs(root.right,kth_smallest_pos+1)\n",
    "    return dfs(root,0)\n",
    "\n",
    "tree = create_tree([4,3,5,2,None])\n",
    "print(kthSmallest(tree,4))"
   ]
  },
  {
   "cell_type": "markdown",
   "id": "afbb39a3",
   "metadata": {},
   "source": [
    "### DFS"
   ]
  },
  {
   "cell_type": "markdown",
   "id": "502b085a",
   "metadata": {},
   "source": [
    "#### Number of Islands\n",
    "- Given a 2D grid grid where '1' represents land and '0' represents water, count and return the number of islands An island is formed by connecting adjacent lands horizontally or vertically and is surrounded by water. You may assume water is surrounding the grid (i.e., all the edges are water). "
   ]
  },
  {
   "cell_type": "code",
   "execution_count": 11,
   "id": "c99158a5",
   "metadata": {},
   "outputs": [
    {
     "ename": "RecursionError",
     "evalue": "maximum recursion depth exceeded",
     "output_type": "error",
     "traceback": [
      "\u001b[31m---------------------------------------------------------------------------\u001b[39m",
      "\u001b[31mRecursionError\u001b[39m                            Traceback (most recent call last)",
      "\u001b[36mCell\u001b[39m\u001b[36m \u001b[39m\u001b[32mIn[11]\u001b[39m\u001b[32m, line 33\u001b[39m\n\u001b[32m     26\u001b[39m     \u001b[38;5;28;01mreturn\u001b[39;00m numIslands\n\u001b[32m     27\u001b[39m grid_1 = [\n\u001b[32m     28\u001b[39m     [\u001b[33m\"\u001b[39m\u001b[33m0\u001b[39m\u001b[33m\"\u001b[39m,\u001b[33m\"\u001b[39m\u001b[33m1\u001b[39m\u001b[33m\"\u001b[39m,\u001b[33m\"\u001b[39m\u001b[33m1\u001b[39m\u001b[33m\"\u001b[39m,\u001b[33m\"\u001b[39m\u001b[33m1\u001b[39m\u001b[33m\"\u001b[39m,\u001b[33m\"\u001b[39m\u001b[33m0\u001b[39m\u001b[33m\"\u001b[39m],\n\u001b[32m     29\u001b[39m     [\u001b[33m\"\u001b[39m\u001b[33m0\u001b[39m\u001b[33m\"\u001b[39m,\u001b[33m\"\u001b[39m\u001b[33m1\u001b[39m\u001b[33m\"\u001b[39m,\u001b[33m\"\u001b[39m\u001b[33m0\u001b[39m\u001b[33m\"\u001b[39m,\u001b[33m\"\u001b[39m\u001b[33m1\u001b[39m\u001b[33m\"\u001b[39m,\u001b[33m\"\u001b[39m\u001b[33m0\u001b[39m\u001b[33m\"\u001b[39m],\n\u001b[32m     30\u001b[39m     [\u001b[33m\"\u001b[39m\u001b[33m1\u001b[39m\u001b[33m\"\u001b[39m,\u001b[33m\"\u001b[39m\u001b[33m1\u001b[39m\u001b[33m\"\u001b[39m,\u001b[33m\"\u001b[39m\u001b[33m0\u001b[39m\u001b[33m\"\u001b[39m,\u001b[33m\"\u001b[39m\u001b[33m0\u001b[39m\u001b[33m\"\u001b[39m,\u001b[33m\"\u001b[39m\u001b[33m0\u001b[39m\u001b[33m\"\u001b[39m],\n\u001b[32m     31\u001b[39m     [\u001b[33m\"\u001b[39m\u001b[33m0\u001b[39m\u001b[33m\"\u001b[39m,\u001b[33m\"\u001b[39m\u001b[33m0\u001b[39m\u001b[33m\"\u001b[39m,\u001b[33m\"\u001b[39m\u001b[33m0\u001b[39m\u001b[33m\"\u001b[39m,\u001b[33m\"\u001b[39m\u001b[33m0\u001b[39m\u001b[33m\"\u001b[39m,\u001b[33m\"\u001b[39m\u001b[33m0\u001b[39m\u001b[33m\"\u001b[39m]\n\u001b[32m     32\u001b[39m   ]\n\u001b[32m---> \u001b[39m\u001b[32m33\u001b[39m \u001b[38;5;28mprint\u001b[39m(\u001b[43mnumIslands\u001b[49m\u001b[43m(\u001b[49m\u001b[43mgrid_1\u001b[49m\u001b[43m)\u001b[49m)\n",
      "\u001b[36mCell\u001b[39m\u001b[36m \u001b[39m\u001b[32mIn[11]\u001b[39m\u001b[32m, line 24\u001b[39m, in \u001b[36mnumIslands\u001b[39m\u001b[34m(grid)\u001b[39m\n\u001b[32m     22\u001b[39m \u001b[38;5;28;01mfor\u001b[39;00m r \u001b[38;5;129;01min\u001b[39;00m \u001b[38;5;28mrange\u001b[39m(\u001b[38;5;28mlen\u001b[39m(grid)):\n\u001b[32m     23\u001b[39m     \u001b[38;5;28;01mfor\u001b[39;00m c \u001b[38;5;129;01min\u001b[39;00m \u001b[38;5;28mrange\u001b[39m(\u001b[38;5;28mlen\u001b[39m(grid[\u001b[32m0\u001b[39m])):\n\u001b[32m---> \u001b[39m\u001b[32m24\u001b[39m         \u001b[38;5;28;01mif\u001b[39;00m \u001b[43mdfs\u001b[49m\u001b[43m(\u001b[49m\u001b[43mr\u001b[49m\u001b[43m,\u001b[49m\u001b[43mc\u001b[49m\u001b[43m)\u001b[49m: numIslands+=\u001b[32m1\u001b[39m\n\u001b[32m     26\u001b[39m \u001b[38;5;28;01mreturn\u001b[39;00m numIslands\n",
      "\u001b[36mCell\u001b[39m\u001b[36m \u001b[39m\u001b[32mIn[11]\u001b[39m\u001b[32m, line 15\u001b[39m, in \u001b[36mnumIslands.<locals>.dfs\u001b[39m\u001b[34m(row, col)\u001b[39m\n\u001b[32m     12\u001b[39m visited.add((row,col))\n\u001b[32m     13\u001b[39m grid[row][col] == \u001b[33m'\u001b[39m\u001b[33m0\u001b[39m\u001b[33m'\u001b[39m\n\u001b[32m     14\u001b[39m res = (\n\u001b[32m---> \u001b[39m\u001b[32m15\u001b[39m     \u001b[43mdfs\u001b[49m\u001b[43m(\u001b[49m\u001b[43mrow\u001b[49m\u001b[43m \u001b[49m\u001b[43m+\u001b[49m\u001b[43m \u001b[49m\u001b[32;43m1\u001b[39;49m\u001b[43m,\u001b[49m\u001b[43m \u001b[49m\u001b[43mcol\u001b[49m\u001b[43m)\u001b[49m \u001b[38;5;129;01mor\u001b[39;00m\n\u001b[32m     16\u001b[39m     dfs(row - \u001b[32m1\u001b[39m, col) \u001b[38;5;129;01mor\u001b[39;00m\n\u001b[32m     17\u001b[39m     dfs(row, col + \u001b[32m1\u001b[39m) \u001b[38;5;129;01mor\u001b[39;00m\n\u001b[32m     18\u001b[39m     dfs(row, col - \u001b[32m1\u001b[39m)\n\u001b[32m     19\u001b[39m )\n\u001b[32m     20\u001b[39m visited.remove((row, col))\n\u001b[32m     21\u001b[39m \u001b[38;5;28;01mreturn\u001b[39;00m res\n",
      "\u001b[36mCell\u001b[39m\u001b[36m \u001b[39m\u001b[32mIn[11]\u001b[39m\u001b[32m, line 15\u001b[39m, in \u001b[36mnumIslands.<locals>.dfs\u001b[39m\u001b[34m(row, col)\u001b[39m\n\u001b[32m     12\u001b[39m visited.add((row,col))\n\u001b[32m     13\u001b[39m grid[row][col] == \u001b[33m'\u001b[39m\u001b[33m0\u001b[39m\u001b[33m'\u001b[39m\n\u001b[32m     14\u001b[39m res = (\n\u001b[32m---> \u001b[39m\u001b[32m15\u001b[39m     \u001b[43mdfs\u001b[49m\u001b[43m(\u001b[49m\u001b[43mrow\u001b[49m\u001b[43m \u001b[49m\u001b[43m+\u001b[49m\u001b[43m \u001b[49m\u001b[32;43m1\u001b[39;49m\u001b[43m,\u001b[49m\u001b[43m \u001b[49m\u001b[43mcol\u001b[49m\u001b[43m)\u001b[49m \u001b[38;5;129;01mor\u001b[39;00m\n\u001b[32m     16\u001b[39m     dfs(row - \u001b[32m1\u001b[39m, col) \u001b[38;5;129;01mor\u001b[39;00m\n\u001b[32m     17\u001b[39m     dfs(row, col + \u001b[32m1\u001b[39m) \u001b[38;5;129;01mor\u001b[39;00m\n\u001b[32m     18\u001b[39m     dfs(row, col - \u001b[32m1\u001b[39m)\n\u001b[32m     19\u001b[39m )\n\u001b[32m     20\u001b[39m visited.remove((row, col))\n\u001b[32m     21\u001b[39m \u001b[38;5;28;01mreturn\u001b[39;00m res\n",
      "\u001b[36mCell\u001b[39m\u001b[36m \u001b[39m\u001b[32mIn[11]\u001b[39m\u001b[32m, line 16\u001b[39m, in \u001b[36mnumIslands.<locals>.dfs\u001b[39m\u001b[34m(row, col)\u001b[39m\n\u001b[32m     12\u001b[39m visited.add((row,col))\n\u001b[32m     13\u001b[39m grid[row][col] == \u001b[33m'\u001b[39m\u001b[33m0\u001b[39m\u001b[33m'\u001b[39m\n\u001b[32m     14\u001b[39m res = (\n\u001b[32m     15\u001b[39m     dfs(row + \u001b[32m1\u001b[39m, col) \u001b[38;5;129;01mor\u001b[39;00m\n\u001b[32m---> \u001b[39m\u001b[32m16\u001b[39m     \u001b[43mdfs\u001b[49m\u001b[43m(\u001b[49m\u001b[43mrow\u001b[49m\u001b[43m \u001b[49m\u001b[43m-\u001b[49m\u001b[43m \u001b[49m\u001b[32;43m1\u001b[39;49m\u001b[43m,\u001b[49m\u001b[43m \u001b[49m\u001b[43mcol\u001b[49m\u001b[43m)\u001b[49m \u001b[38;5;129;01mor\u001b[39;00m\n\u001b[32m     17\u001b[39m     dfs(row, col + \u001b[32m1\u001b[39m) \u001b[38;5;129;01mor\u001b[39;00m\n\u001b[32m     18\u001b[39m     dfs(row, col - \u001b[32m1\u001b[39m)\n\u001b[32m     19\u001b[39m )\n\u001b[32m     20\u001b[39m visited.remove((row, col))\n\u001b[32m     21\u001b[39m \u001b[38;5;28;01mreturn\u001b[39;00m res\n",
      "    \u001b[31m[... skipping similar frames: numIslands.<locals>.dfs at line 15 (1 times)]\u001b[39m\n",
      "\u001b[36mCell\u001b[39m\u001b[36m \u001b[39m\u001b[32mIn[11]\u001b[39m\u001b[32m, line 16\u001b[39m, in \u001b[36mnumIslands.<locals>.dfs\u001b[39m\u001b[34m(row, col)\u001b[39m\n\u001b[32m     12\u001b[39m visited.add((row,col))\n\u001b[32m     13\u001b[39m grid[row][col] == \u001b[33m'\u001b[39m\u001b[33m0\u001b[39m\u001b[33m'\u001b[39m\n\u001b[32m     14\u001b[39m res = (\n\u001b[32m     15\u001b[39m     dfs(row + \u001b[32m1\u001b[39m, col) \u001b[38;5;129;01mor\u001b[39;00m\n\u001b[32m---> \u001b[39m\u001b[32m16\u001b[39m     \u001b[43mdfs\u001b[49m\u001b[43m(\u001b[49m\u001b[43mrow\u001b[49m\u001b[43m \u001b[49m\u001b[43m-\u001b[49m\u001b[43m \u001b[49m\u001b[32;43m1\u001b[39;49m\u001b[43m,\u001b[49m\u001b[43m \u001b[49m\u001b[43mcol\u001b[49m\u001b[43m)\u001b[49m \u001b[38;5;129;01mor\u001b[39;00m\n\u001b[32m     17\u001b[39m     dfs(row, col + \u001b[32m1\u001b[39m) \u001b[38;5;129;01mor\u001b[39;00m\n\u001b[32m     18\u001b[39m     dfs(row, col - \u001b[32m1\u001b[39m)\n\u001b[32m     19\u001b[39m )\n\u001b[32m     20\u001b[39m visited.remove((row, col))\n\u001b[32m     21\u001b[39m \u001b[38;5;28;01mreturn\u001b[39;00m res\n",
      "    \u001b[31m[... skipping similar frames: numIslands.<locals>.dfs at line 15 (1485 times), numIslands.<locals>.dfs at line 16 (1484 times)]\u001b[39m\n",
      "\u001b[36mCell\u001b[39m\u001b[36m \u001b[39m\u001b[32mIn[11]\u001b[39m\u001b[32m, line 16\u001b[39m, in \u001b[36mnumIslands.<locals>.dfs\u001b[39m\u001b[34m(row, col)\u001b[39m\n\u001b[32m     12\u001b[39m visited.add((row,col))\n\u001b[32m     13\u001b[39m grid[row][col] == \u001b[33m'\u001b[39m\u001b[33m0\u001b[39m\u001b[33m'\u001b[39m\n\u001b[32m     14\u001b[39m res = (\n\u001b[32m     15\u001b[39m     dfs(row + \u001b[32m1\u001b[39m, col) \u001b[38;5;129;01mor\u001b[39;00m\n\u001b[32m---> \u001b[39m\u001b[32m16\u001b[39m     \u001b[43mdfs\u001b[49m\u001b[43m(\u001b[49m\u001b[43mrow\u001b[49m\u001b[43m \u001b[49m\u001b[43m-\u001b[49m\u001b[43m \u001b[49m\u001b[32;43m1\u001b[39;49m\u001b[43m,\u001b[49m\u001b[43m \u001b[49m\u001b[43mcol\u001b[49m\u001b[43m)\u001b[49m \u001b[38;5;129;01mor\u001b[39;00m\n\u001b[32m     17\u001b[39m     dfs(row, col + \u001b[32m1\u001b[39m) \u001b[38;5;129;01mor\u001b[39;00m\n\u001b[32m     18\u001b[39m     dfs(row, col - \u001b[32m1\u001b[39m)\n\u001b[32m     19\u001b[39m )\n\u001b[32m     20\u001b[39m visited.remove((row, col))\n\u001b[32m     21\u001b[39m \u001b[38;5;28;01mreturn\u001b[39;00m res\n",
      "\u001b[36mCell\u001b[39m\u001b[36m \u001b[39m\u001b[32mIn[11]\u001b[39m\u001b[32m, line 15\u001b[39m, in \u001b[36mnumIslands.<locals>.dfs\u001b[39m\u001b[34m(row, col)\u001b[39m\n\u001b[32m     12\u001b[39m visited.add((row,col))\n\u001b[32m     13\u001b[39m grid[row][col] == \u001b[33m'\u001b[39m\u001b[33m0\u001b[39m\u001b[33m'\u001b[39m\n\u001b[32m     14\u001b[39m res = (\n\u001b[32m---> \u001b[39m\u001b[32m15\u001b[39m     \u001b[43mdfs\u001b[49m\u001b[43m(\u001b[49m\u001b[43mrow\u001b[49m\u001b[43m \u001b[49m\u001b[43m+\u001b[49m\u001b[43m \u001b[49m\u001b[32;43m1\u001b[39;49m\u001b[43m,\u001b[49m\u001b[43m \u001b[49m\u001b[43mcol\u001b[49m\u001b[43m)\u001b[49m \u001b[38;5;129;01mor\u001b[39;00m\n\u001b[32m     16\u001b[39m     dfs(row - \u001b[32m1\u001b[39m, col) \u001b[38;5;129;01mor\u001b[39;00m\n\u001b[32m     17\u001b[39m     dfs(row, col + \u001b[32m1\u001b[39m) \u001b[38;5;129;01mor\u001b[39;00m\n\u001b[32m     18\u001b[39m     dfs(row, col - \u001b[32m1\u001b[39m)\n\u001b[32m     19\u001b[39m )\n\u001b[32m     20\u001b[39m visited.remove((row, col))\n\u001b[32m     21\u001b[39m \u001b[38;5;28;01mreturn\u001b[39;00m res\n",
      "\u001b[31mRecursionError\u001b[39m: maximum recursion depth exceeded"
     ]
    }
   ],
   "source": [
    "def numIslands(grid: List[List[str]]) -> int:\n",
    "    \n",
    "    visited = set()\n",
    "    numIslands = 0\n",
    "\n",
    "    def dfs(row,col) -> bool:  \n",
    "        \n",
    "        if grid[row][col] == '0':\n",
    "            return False\n",
    "        if (row < 0 or col < 0 or row >= len(grid) or col >= len(grid[0]) or (row, col) in grid):\n",
    "            return False\n",
    "        visited.add((row,col))\n",
    "        grid[row][col] == '0'\n",
    "        res = (\n",
    "            dfs(row + 1, col) or\n",
    "            dfs(row - 1, col) or\n",
    "            dfs(row, col + 1) or\n",
    "            dfs(row, col - 1)\n",
    "        )\n",
    "        visited.remove((row, col))\n",
    "        return res\n",
    "    for r in range(len(grid)):\n",
    "        for c in range(len(grid[0])):\n",
    "            if dfs(r,c): numIslands+=1\n",
    "    \n",
    "    return numIslands\n",
    "grid_1 = [\n",
    "    [\"0\",\"1\",\"1\",\"1\",\"0\"],\n",
    "    [\"0\",\"1\",\"0\",\"1\",\"0\"],\n",
    "    [\"1\",\"1\",\"0\",\"0\",\"0\"],\n",
    "    [\"0\",\"0\",\"0\",\"0\",\"0\"]\n",
    "  ]\n",
    "print(numIslands(grid_1))"
   ]
  },
  {
   "cell_type": "markdown",
   "id": "e5744bc5",
   "metadata": {},
   "source": [
    "### Bit Manipulation"
   ]
  },
  {
   "cell_type": "markdown",
   "id": "5e1fe4f9",
   "metadata": {},
   "source": [
    "#### 371. Sum of Two Integers"
   ]
  },
  {
   "cell_type": "markdown",
   "id": "723e60d5",
   "metadata": {},
   "source": [
    "- Given two integers a and b, return the sum of the two integers without using the operators + and -.\n",
    "- Incomplete"
   ]
  },
  {
   "cell_type": "code",
   "execution_count": 2,
   "id": "2f23b1cf",
   "metadata": {},
   "outputs": [
    {
     "ename": "ValueError",
     "evalue": "invalid literal for int() with base 10: 'b'",
     "output_type": "error",
     "traceback": [
      "\u001b[31m---------------------------------------------------------------------------\u001b[39m",
      "\u001b[31mValueError\u001b[39m                                Traceback (most recent call last)",
      "\u001b[36mCell\u001b[39m\u001b[36m \u001b[39m\u001b[32mIn[2]\u001b[39m\u001b[32m, line 22\u001b[39m\n\u001b[32m     20\u001b[39m     \u001b[38;5;28mprint\u001b[39m(\u001b[33mf\u001b[39m\u001b[33m'\u001b[39m\u001b[33ma_bin \u001b[39m\u001b[38;5;132;01m{\u001b[39;00ma_bin_padded\u001b[38;5;132;01m}\u001b[39;00m\u001b[33m : b_bin \u001b[39m\u001b[38;5;132;01m{\u001b[39;00mb_bin_padded\u001b[38;5;132;01m}\u001b[39;00m\u001b[33m'\u001b[39m)\n\u001b[32m     21\u001b[39m     \u001b[38;5;28;01mreturn\u001b[39;00m \u001b[38;5;28mint\u001b[39m(\u001b[33m'\u001b[39m\u001b[33m'\u001b[39m.join(\u001b[38;5;28mstr\u001b[39m(i) \u001b[38;5;28;01mfor\u001b[39;00m i \u001b[38;5;129;01min\u001b[39;00m \u001b[38;5;28mreversed\u001b[39m(res)),\u001b[32m2\u001b[39m)\n\u001b[32m---> \u001b[39m\u001b[32m22\u001b[39m \u001b[38;5;28mprint\u001b[39m(\u001b[43mgetSum\u001b[49m\u001b[43m(\u001b[49m\u001b[43m-\u001b[49m\u001b[32;43m100\u001b[39;49m\u001b[43m,\u001b[49m\u001b[32;43m200\u001b[39;49m\u001b[43m)\u001b[49m)\n",
      "\u001b[36mCell\u001b[39m\u001b[36m \u001b[39m\u001b[32mIn[2]\u001b[39m\u001b[32m, line 15\u001b[39m, in \u001b[36mgetSum\u001b[39m\u001b[34m(a, b)\u001b[39m\n\u001b[32m     12\u001b[39m b_bin_padded = b_bin.zfill(\u001b[32m16\u001b[39m)\n\u001b[32m     14\u001b[39m \u001b[38;5;28;01mfor\u001b[39;00m k, (i, j) \u001b[38;5;129;01min\u001b[39;00m \u001b[38;5;28menumerate\u001b[39m(\u001b[38;5;28mzip\u001b[39m(\u001b[38;5;28mreversed\u001b[39m(a_bin_padded), \u001b[38;5;28mreversed\u001b[39m(b_bin_padded))):\n\u001b[32m---> \u001b[39m\u001b[32m15\u001b[39m     res[k] = \u001b[38;5;28;43mint\u001b[39;49m\u001b[43m(\u001b[49m\u001b[43mi\u001b[49m\u001b[43m)\u001b[49m ^ \u001b[38;5;28mint\u001b[39m(j) ^ \u001b[38;5;28mint\u001b[39m(carry)\n\u001b[32m     16\u001b[39m     count_ones = \u001b[38;5;28msum\u001b[39m(x == \u001b[32m1\u001b[39m \u001b[38;5;28;01mfor\u001b[39;00m x \u001b[38;5;129;01min\u001b[39;00m [\u001b[38;5;28mint\u001b[39m(i), \u001b[38;5;28mint\u001b[39m(j), \u001b[38;5;28mint\u001b[39m(carry)])\n\u001b[32m     17\u001b[39m     carry = \u001b[32m1\u001b[39m \u001b[38;5;28;01mif\u001b[39;00m count_ones >= \u001b[32m2\u001b[39m \u001b[38;5;28;01melse\u001b[39;00m \u001b[32m0\u001b[39m\n",
      "\u001b[31mValueError\u001b[39m: invalid literal for int() with base 10: 'b'"
     ]
    }
   ],
   "source": [
    "def getSum(a: int, b: int) -> int:\n",
    "    \n",
    "    a_bin = bin(a)[2:] \n",
    "    b_bin = bin(b)[2:]\n",
    "    \n",
    "    carry = 0\n",
    "\n",
    "    max_len = max(len(a_bin), len(b_bin))\n",
    "    res = [None] * 16\n",
    "\n",
    "    a_bin_padded = a_bin.zfill(16)\n",
    "    b_bin_padded = b_bin.zfill(16)\n",
    "\n",
    "    for k, (i, j) in enumerate(zip(reversed(a_bin_padded), reversed(b_bin_padded))):\n",
    "        res[k] = int(i) ^ int(j) ^ int(carry)\n",
    "        count_ones = sum(x == 1 for x in [int(i), int(j), int(carry)])\n",
    "        carry = 1 if count_ones >= 2 else 0\n",
    "\n",
    "    print(f'type (a): {type(a_bin_padded)}')\n",
    "    print(f'a_bin {a_bin_padded} : b_bin {b_bin_padded}')\n",
    "    return int(''.join(str(i) for i in reversed(res)),2)\n",
    "print(getSum(-100,200))"
   ]
  },
  {
   "cell_type": "markdown",
   "id": "33b6a734",
   "metadata": {},
   "source": [
    "### Backtracking"
   ]
  },
  {
   "cell_type": "markdown",
   "id": "5f481416",
   "metadata": {},
   "source": [
    "#### Combinations\n",
    "- You are given two integers n and k, return all possible combinations of k numbers chosen from the range [1, n].\n",
    "- You may return the answer in any order."
   ]
  },
  {
   "cell_type": "code",
   "execution_count": null,
   "id": "eae03fa0",
   "metadata": {},
   "outputs": [
    {
     "name": "stdout",
     "output_type": "stream",
     "text": [
      "[[1, 2], [1, 3], [2, 3]]\n"
     ]
    }
   ],
   "source": [
    "def combine(n: int, k: int) -> List[List[int]]:\n",
    "    res = []\n",
    "    part = list()\n",
    "    def dfs(i, part):\n",
    "        if len(part) == k:\n",
    "            res.append(part.copy())\n",
    "            return\n",
    "                        \n",
    "        for j in range(i, n + 1):\n",
    "            part.append(j)\n",
    "            dfs(j + 1, part)\n",
    "            part.pop()\n",
    "    \n",
    "    dfs(1, part)\n",
    "\n",
    "    return res\n",
    "\n",
    "print(combine(3,2))"
   ]
  },
  {
   "cell_type": "markdown",
   "id": "caba7ca6",
   "metadata": {},
   "source": [
    "#### Numbers With Same Consecutive Differences \n",
    "- Given two integers n and k, return an array of all the integers of length n where the difference between every two consecutive digits is k. You may return the answer in any order."
   ]
  },
  {
   "cell_type": "code",
   "execution_count": null,
   "id": "3b714b4a",
   "metadata": {},
   "outputs": [
    {
     "name": "stdout",
     "output_type": "stream",
     "text": [
      "[181, 292, 707, 818, 929]\n",
      "[10, 12, 21, 23, 32, 34, 43, 45, 54, 56, 65, 67, 76, 78, 87, 89, 98]\n"
     ]
    }
   ],
   "source": [
    "def numsSameConsecDiff(n: int, k: int) -> List[int]:\n",
    "    res = []\n",
    "    visited = []\n",
    "    def bfs(num):\n",
    "        if len(num) == n:\n",
    "            res.append(int(num))\n",
    "            return\n",
    "        \n",
    "        for i in range(10):\n",
    "            if abs(int(num[len(num) - 1]) - i) == k:\n",
    "                bfs(num + str(i))\n",
    "          \n",
    "    for i in range(1,10):\n",
    "        bfs(str(i))\n",
    "    return res\n",
    "\n",
    "print(numsSameConsecDiff(3,7))\n",
    "print(numsSameConsecDiff(2,1))"
   ]
  },
  {
   "cell_type": "markdown",
   "id": "e3495648",
   "metadata": {},
   "source": [
    "#### Letter Combinations of a Phone Number\n",
    "- You are given a string digits made up of digits from 2 through 9 inclusive.\n",
    "\n",
    "Each digit (not including 1) is mapped to a set of characters as shown below:\n",
    "\n",
    "A digit could represent any one of the characters it maps to.\n",
    "\n",
    "Return all possible letter combinations that digits could represent. You may return the answer in any order."
   ]
  },
  {
   "cell_type": "code",
   "execution_count": 37,
   "id": "97c93198",
   "metadata": {},
   "outputs": [
    {
     "data": {
      "text/plain": [
       "['dg', 'dh', 'di', 'eg', 'eh', 'ei', 'fg', 'fh', 'fi']"
      ]
     },
     "execution_count": 37,
     "metadata": {},
     "output_type": "execute_result"
    }
   ],
   "source": [
    "# def letterCombinations(digits: str) -> List[str]:\n",
    "   \n",
    "   \n",
    "#     key_map = {'2':'ABC', '3': 'DEF', '4':'GHI', '5':'JKL', '6': 'MNO', '7':'PQRS', '8':'TUV', '9':'WXYZ'}\n",
    "#     res = []\n",
    "\n",
    "#     def dfs(i,j,part: list):\n",
    "#         if len(part) == len(digits):\n",
    "#             res.append(\"\".join(part))\n",
    "#             part.clear()\n",
    "#             return\n",
    "        \n",
    "#         part.append(i[j])\n",
    "\n",
    "#         for k in range(1, len(digits)):\n",
    "#             dfs(key_map[digits[k]],j+1,part)\n",
    "        \n",
    "#     dfs(key_map[digits[0]],0,[])\n",
    "#     return res\n",
    "        \n",
    "   \n",
    "   \n",
    "   \n",
    "   \n",
    "   \n",
    "\n",
    "def letterCombinations(digits: str) -> List[str]:\n",
    "    res = []\n",
    "    digitToChar = {\n",
    "        \"2\": \"abc\",\n",
    "        \"3\": \"def\",\n",
    "        \"4\": \"ghi\",\n",
    "        \"5\": \"jkl\",\n",
    "        \"6\": \"mno\",\n",
    "        \"7\": \"qprs\",\n",
    "        \"8\": \"tuv\",\n",
    "        \"9\": \"wxyz\",\n",
    "    }\n",
    "\n",
    "    def backtrack(i, curStr):\n",
    "        if len(curStr) == len(digits):\n",
    "            res.append(curStr)\n",
    "            return\n",
    "        for c in digitToChar[digits[i]]:\n",
    "            backtrack(i + 1, curStr + c)\n",
    "\n",
    "    if digits:\n",
    "        backtrack(0, \"\")\n",
    "\n",
    "    return res\n",
    "\n",
    "letterCombinations(\"34\")\n",
    "\n"
   ]
  },
  {
   "cell_type": "markdown",
   "id": "a6bfcf2a",
   "metadata": {},
   "source": [
    "#### Subsets II\n",
    "- You are given an array nums of integers, which may contain duplicates.\n",
    "- Return all possible subsets\n",
    "\n",
    "- The solution must not contain duplicate subsets. You may return the solution in any order"
   ]
  },
  {
   "cell_type": "code",
   "execution_count": null,
   "id": "f8a25581",
   "metadata": {},
   "outputs": [
    {
     "name": "stdout",
     "output_type": "stream",
     "text": [
      "[[], [1], [1, 1], [1, 1, 2], [1, 2], [2]]\n"
     ]
    }
   ],
   "source": [
    "def subsetsWithDup(nums: List[int]) -> List[List[int]]:\n",
    "    nums.sort()\n",
    "    res = []\n",
    "    def backtrack(i, subset):\n",
    "        # first step is to arrange in order to handle duplicates so they are adjacent\n",
    "        res.append(subset[::])\n",
    "\n",
    "        # I think we have to \n",
    "        for j in range(i, len(nums)):\n",
    "            # skipping duplicates\n",
    "            if j > i and nums[j] == nums[j - 1]:\n",
    "                continue\n",
    "            subset.append(nums[j])\n",
    "            backtrack(j + 1, subset)\n",
    "            subset.pop()\n",
    "    backtrack(0, [])\n",
    "    return res\n",
    "\n",
    "# def subsetsWithDup(nums: List[int]) -> List[List[int]]:\n",
    "#     subsets = []\n",
    "#     def dfs(curr: Optional[List[int]],i):\n",
    "#         nonlocal subsets\n",
    "#         if curr in subsets or i >= len(nums):\n",
    "#             return\n",
    "#         subsets.append(curr.copy())\n",
    "#         curr.append(nums[i])\n",
    "#         dfs(curr, i + 1)\n",
    "#         curr.pop()\n",
    "#     for i in range(len(nums)):\n",
    "#         dfs([nums[i]],i)\n",
    "#     return subsets\n",
    "\n",
    "print(subsetsWithDup([1,2,1]))"
   ]
  },
  {
   "cell_type": "markdown",
   "id": "c2f2d9cf",
   "metadata": {},
   "source": [
    "#### Permutations"
   ]
  },
  {
   "cell_type": "markdown",
   "id": "ef99859b",
   "metadata": {},
   "source": [
    "- Given an array nums of unique integers, return all the possible permutations. You may return the answer in any order.\n",
    "\n"
   ]
  },
  {
   "cell_type": "code",
   "execution_count": null,
   "id": "b73f01c3",
   "metadata": {},
   "outputs": [
    {
     "name": "stdout",
     "output_type": "stream",
     "text": [
      "[[1, 2, 3], [1, 3, 2], [2, 1, 3], [2, 3, 1], [3, 1, 2], [3, 2, 1]]\n"
     ]
    }
   ],
   "source": [
    "def permute(nums: List[int]) -> List[List[int]]:\n",
    "    perm = []\n",
    "    curr_perm = []\n",
    "\n",
    "    def dfs(i):\n",
    "        if len(curr_perm) == len(nums) and curr_perm not in perm:\n",
    "            perm.append(curr_perm.copy())\n",
    "            return\n",
    "        if nums[i] in curr_perm:\n",
    "            return\n",
    "        curr_perm.append(nums[i])\n",
    "        for j in range(0,len(nums)):\n",
    "            dfs(j)\n",
    "        curr_perm.pop()\n",
    "    for k in range(0, len(nums)):\n",
    "        dfs(k)\n",
    "    return perm\n",
    "\n",
    "print(permute([1,2,3]))"
   ]
  },
  {
   "cell_type": "markdown",
   "id": "91beae90",
   "metadata": {},
   "source": [
    "#### Palindrome Partitioning"
   ]
  },
  {
   "cell_type": "markdown",
   "id": "4c1b91c0",
   "metadata": {},
   "source": [
    "- Given a string s, split s into substrings where every substring is a palindrome. Return all possible lists of palindromic substrings.\n",
    "\n",
    "You may return the solution in any order."
   ]
  },
  {
   "cell_type": "code",
   "execution_count": null,
   "id": "8ea0aed4",
   "metadata": {},
   "outputs": [],
   "source": [
    "def partition(self, s: str) -> List[List[str]]:\n",
    "    \n",
    "    return "
   ]
  },
  {
   "cell_type": "markdown",
   "id": "ce0097d1",
   "metadata": {},
   "source": [
    "#### Word Search"
   ]
  },
  {
   "cell_type": "markdown",
   "id": "4b067388",
   "metadata": {},
   "source": [
    "- Given a 2-D grid of characters board and a string word, return true if the word is present in the grid, otherwise return false.\n",
    "\n",
    "- For the word to be present it must be possible to form it with a path in the board with horizontally or vertically neighboring cells. The same cell may not be used more than once in a word."
   ]
  },
  {
   "cell_type": "code",
   "execution_count": 31,
   "id": "948c77d2",
   "metadata": {},
   "outputs": [
    {
     "data": {
      "text/plain": [
       "True"
      ]
     },
     "execution_count": 31,
     "metadata": {},
     "output_type": "execute_result"
    }
   ],
   "source": [
    "def exist(board: List[List[str]], word: str) -> bool:\n",
    "    path = set()\n",
    "    dRow = [0, 1, 0, -1]\n",
    "    dCol = [-1, 0, 1, 0]\n",
    "\n",
    "    def dfs(row,col,i) -> bool:  \n",
    "        if i == len(word):\n",
    "            return True\n",
    "        if (row < 0 or col < 0 or row >= len(board) or col >= len(board[0]) or word[i] != board[row][col] or (row, col) in path):\n",
    "            return False\n",
    "        path.add((row,col))\n",
    "        res = (\n",
    "            dfs(row + 1, col, i + 1) or\n",
    "            dfs(row - 1, col, i + 1) or\n",
    "            dfs(row, col + 1, i + 1) or\n",
    "            dfs(row, col - 1, i + 1)\n",
    "        )\n",
    "        path.remove((row, col))\n",
    "        return res\n",
    "    for r in range(len(board)):\n",
    "        for c in range(len(board[0])):\n",
    "            if dfs(r,c,0): return True\n",
    "    return False\n",
    "board = [\n",
    "  [\"A\",\"B\",\"C\",\"D\"],\n",
    "  [\"S\",\"A\",\"A\",\"T\"],\n",
    "  [\"A\",\"C\",\"A\",\"E\"]\n",
    "]\n",
    "word = \"CAT\"\n",
    "exist(board,word)"
   ]
  },
  {
   "cell_type": "markdown",
   "id": "fd6afda4",
   "metadata": {},
   "source": [
    "#### 39. Combination Sum\n"
   ]
  },
  {
   "cell_type": "markdown",
   "id": "d452b5d1",
   "metadata": {},
   "source": [
    "- Given an array of distinct integers candidates and a target integer target, return a list of all unique combinations of candidates where the chosen numbers sum to target. You may return the combinations in any order.\n",
    "\n",
    "The same number may be chosen from candidates an unlimited number of times. Two combinations are unique if the\n",
    "\n",
    "of at least one of the chosen numbers is different.\n",
    "\n",
    "The test cases are generated such that the number of unique combinations that sum up to target is less than 150 combinations for the given input."
   ]
  },
  {
   "cell_type": "code",
   "execution_count": 42,
   "id": "2a2e447f",
   "metadata": {},
   "outputs": [
    {
     "ename": "KeyboardInterrupt",
     "evalue": "",
     "output_type": "error",
     "traceback": [
      "\u001b[31m---------------------------------------------------------------------------\u001b[39m",
      "\u001b[31mKeyboardInterrupt\u001b[39m                         Traceback (most recent call last)",
      "\u001b[36mCell\u001b[39m\u001b[36m \u001b[39m\u001b[32mIn[42]\u001b[39m\u001b[32m, line 27\u001b[39m\n\u001b[32m     23\u001b[39m         dfs(i,[])\n\u001b[32m     25\u001b[39m     \u001b[38;5;28;01mreturn\u001b[39;00m res\n\u001b[32m---> \u001b[39m\u001b[32m27\u001b[39m \u001b[38;5;28mprint\u001b[39m(\u001b[43mcombinationSum\u001b[49m\u001b[43m(\u001b[49m\u001b[43m[\u001b[49m\u001b[32;43m2\u001b[39;49m\u001b[43m,\u001b[49m\u001b[32;43m5\u001b[39;49m\u001b[43m,\u001b[49m\u001b[32;43m6\u001b[39;49m\u001b[43m,\u001b[49m\u001b[32;43m9\u001b[39;49m\u001b[43m]\u001b[49m\u001b[43m,\u001b[49m\u001b[32;43m9\u001b[39;49m\u001b[43m)\u001b[49m)\n",
      "\u001b[36mCell\u001b[39m\u001b[36m \u001b[39m\u001b[32mIn[42]\u001b[39m\u001b[32m, line 23\u001b[39m, in \u001b[36mcombinationSum\u001b[39m\u001b[34m(candidates, target)\u001b[39m\n\u001b[32m     20\u001b[39m     total.pop()\n\u001b[32m     22\u001b[39m \u001b[38;5;28;01mfor\u001b[39;00m i \u001b[38;5;129;01min\u001b[39;00m \u001b[38;5;28mrange\u001b[39m(\u001b[38;5;28mlen\u001b[39m(candidates)):\n\u001b[32m---> \u001b[39m\u001b[32m23\u001b[39m     \u001b[43mdfs\u001b[49m\u001b[43m(\u001b[49m\u001b[43mi\u001b[49m\u001b[43m,\u001b[49m\u001b[43m[\u001b[49m\u001b[43m]\u001b[49m\u001b[43m)\u001b[49m\n\u001b[32m     25\u001b[39m \u001b[38;5;28;01mreturn\u001b[39;00m res\n",
      "\u001b[36mCell\u001b[39m\u001b[36m \u001b[39m\u001b[32mIn[42]\u001b[39m\u001b[32m, line 19\u001b[39m, in \u001b[36mcombinationSum.<locals>.dfs\u001b[39m\u001b[34m(i, total)\u001b[39m\n\u001b[32m     17\u001b[39m     \u001b[38;5;28;01mif\u001b[39;00m \u001b[38;5;28msum\u001b[39m(total) + candidates[j] > target:\n\u001b[32m     18\u001b[39m         \u001b[38;5;28;01mcontinue\u001b[39;00m\n\u001b[32m---> \u001b[39m\u001b[32m19\u001b[39m     \u001b[43mdfs\u001b[49m\u001b[43m(\u001b[49m\u001b[43mj\u001b[49m\u001b[43m,\u001b[49m\u001b[43mtotal\u001b[49m\u001b[43m)\u001b[49m\n\u001b[32m     20\u001b[39m total.pop()\n",
      "\u001b[36mCell\u001b[39m\u001b[36m \u001b[39m\u001b[32mIn[42]\u001b[39m\u001b[32m, line 19\u001b[39m, in \u001b[36mcombinationSum.<locals>.dfs\u001b[39m\u001b[34m(i, total)\u001b[39m\n\u001b[32m     17\u001b[39m     \u001b[38;5;28;01mif\u001b[39;00m \u001b[38;5;28msum\u001b[39m(total) + candidates[j] > target:\n\u001b[32m     18\u001b[39m         \u001b[38;5;28;01mcontinue\u001b[39;00m\n\u001b[32m---> \u001b[39m\u001b[32m19\u001b[39m     \u001b[43mdfs\u001b[49m(j,total)\n\u001b[32m     20\u001b[39m total.pop()\n",
      "\u001b[36mFile \u001b[39m\u001b[32m<stringsource>:69\u001b[39m, in \u001b[36mcfunc.to_py.__Pyx_CFunc_b0409f__29_pydevd_sys_monitoring_cython_object__lParen__etc_to_py_4code_4line.wrap\u001b[39m\u001b[34m()\u001b[39m\n",
      "\u001b[36mFile \u001b[39m\u001b[32m_pydevd_sys_monitoring\\\\_pydevd_sys_monitoring_cython.pyx:1470\u001b[39m, in \u001b[36m_pydevd_sys_monitoring_cython._line_event\u001b[39m\u001b[34m()\u001b[39m\n",
      "\u001b[36mFile \u001b[39m\u001b[32m_pydevd_sys_monitoring\\\\_pydevd_sys_monitoring_cython.pyx:1591\u001b[39m, in \u001b[36m_pydevd_sys_monitoring_cython._internal_line_event\u001b[39m\u001b[34m()\u001b[39m\n",
      "\u001b[36mFile \u001b[39m\u001b[32m_pydevd_sys_monitoring\\\\_pydevd_sys_monitoring_cython.pyx:1950\u001b[39m, in \u001b[36m_pydevd_sys_monitoring_cython._do_wait_suspend\u001b[39m\u001b[34m()\u001b[39m\n",
      "\u001b[36mFile \u001b[39m\u001b[32m~/miniconda3/lib/python3.13/site-packages/debugpy/_vendored/pydevd/pydevd.py:2188\u001b[39m, in \u001b[36mPyDB.do_wait_suspend\u001b[39m\u001b[34m(self, thread, frame, event, arg, exception_type)\u001b[39m\n\u001b[32m   2185\u001b[39m             from_this_thread.append(frame_custom_thread_id)\n\u001b[32m   2187\u001b[39m     \u001b[38;5;28;01mwith\u001b[39;00m \u001b[38;5;28mself\u001b[39m._threads_suspended_single_notification.notify_thread_suspended(thread_id, thread, stop_reason):\n\u001b[32m-> \u001b[39m\u001b[32m2188\u001b[39m         keep_suspended = \u001b[38;5;28;43mself\u001b[39;49m\u001b[43m.\u001b[49m\u001b[43m_do_wait_suspend\u001b[49m\u001b[43m(\u001b[49m\u001b[43mthread\u001b[49m\u001b[43m,\u001b[49m\u001b[43m \u001b[49m\u001b[43mframe\u001b[49m\u001b[43m,\u001b[49m\u001b[43m \u001b[49m\u001b[43mevent\u001b[49m\u001b[43m,\u001b[49m\u001b[43m \u001b[49m\u001b[43marg\u001b[49m\u001b[43m,\u001b[49m\u001b[43m \u001b[49m\u001b[43mtrace_suspend_type\u001b[49m\u001b[43m,\u001b[49m\u001b[43m \u001b[49m\u001b[43mfrom_this_thread\u001b[49m\u001b[43m,\u001b[49m\u001b[43m \u001b[49m\u001b[43mframes_tracker\u001b[49m\u001b[43m)\u001b[49m\n\u001b[32m   2190\u001b[39m frames_list = \u001b[38;5;28;01mNone\u001b[39;00m\n\u001b[32m   2192\u001b[39m \u001b[38;5;28;01mif\u001b[39;00m keep_suspended:\n\u001b[32m   2193\u001b[39m     \u001b[38;5;66;03m# This means that we should pause again after a set next statement.\u001b[39;00m\n",
      "\u001b[36mFile \u001b[39m\u001b[32m~/miniconda3/lib/python3.13/site-packages/debugpy/_vendored/pydevd/pydevd.py:2257\u001b[39m, in \u001b[36mPyDB._do_wait_suspend\u001b[39m\u001b[34m(self, thread, frame, event, arg, trace_suspend_type, from_this_thread, frames_tracker)\u001b[39m\n\u001b[32m   2254\u001b[39m                 queue.put(internal_cmd)\n\u001b[32m   2255\u001b[39m                 wait_timeout = TIMEOUT_FAST\n\u001b[32m-> \u001b[39m\u001b[32m2257\u001b[39m         \u001b[43mnotify_event\u001b[49m\u001b[43m.\u001b[49m\u001b[43mwait\u001b[49m\u001b[43m(\u001b[49m\u001b[43mwait_timeout\u001b[49m\u001b[43m)\u001b[49m\n\u001b[32m   2258\u001b[39m         notify_event.clear()\n\u001b[32m   2260\u001b[39m \u001b[38;5;28;01mfinally\u001b[39;00m:\n",
      "\u001b[36mFile \u001b[39m\u001b[32m~/miniconda3/lib/python3.13/threading.py:659\u001b[39m, in \u001b[36mEvent.wait\u001b[39m\u001b[34m(self, timeout)\u001b[39m\n\u001b[32m    657\u001b[39m signaled = \u001b[38;5;28mself\u001b[39m._flag\n\u001b[32m    658\u001b[39m \u001b[38;5;28;01mif\u001b[39;00m \u001b[38;5;129;01mnot\u001b[39;00m signaled:\n\u001b[32m--> \u001b[39m\u001b[32m659\u001b[39m     signaled = \u001b[38;5;28;43mself\u001b[39;49m\u001b[43m.\u001b[49m\u001b[43m_cond\u001b[49m\u001b[43m.\u001b[49m\u001b[43mwait\u001b[49m\u001b[43m(\u001b[49m\u001b[43mtimeout\u001b[49m\u001b[43m)\u001b[49m\n\u001b[32m    660\u001b[39m \u001b[38;5;28;01mreturn\u001b[39;00m signaled\n",
      "\u001b[36mFile \u001b[39m\u001b[32m~/miniconda3/lib/python3.13/threading.py:363\u001b[39m, in \u001b[36mCondition.wait\u001b[39m\u001b[34m(self, timeout)\u001b[39m\n\u001b[32m    361\u001b[39m \u001b[38;5;28;01melse\u001b[39;00m:\n\u001b[32m    362\u001b[39m     \u001b[38;5;28;01mif\u001b[39;00m timeout > \u001b[32m0\u001b[39m:\n\u001b[32m--> \u001b[39m\u001b[32m363\u001b[39m         gotit = \u001b[43mwaiter\u001b[49m\u001b[43m.\u001b[49m\u001b[43macquire\u001b[49m\u001b[43m(\u001b[49m\u001b[38;5;28;43;01mTrue\u001b[39;49;00m\u001b[43m,\u001b[49m\u001b[43m \u001b[49m\u001b[43mtimeout\u001b[49m\u001b[43m)\u001b[49m\n\u001b[32m    364\u001b[39m     \u001b[38;5;28;01melse\u001b[39;00m:\n\u001b[32m    365\u001b[39m         gotit = waiter.acquire(\u001b[38;5;28;01mFalse\u001b[39;00m)\n",
      "\u001b[31mKeyboardInterrupt\u001b[39m: "
     ]
    }
   ],
   "source": [
    "def combinationSum(candidates, target) -> List[List[int]]:\n",
    "    \"\"\"\n",
    "    :type candidates: List[int]\n",
    "    :type target: int\n",
    "    :rtype: List[List[int]]\n",
    "    \"\"\"\n",
    "    res = []\n",
    "    def dfs(i, total: List):\n",
    "        if sum(total) == target and total not in res:\n",
    "            res.append(total.copy())\n",
    "            return\n",
    "        if sum(total) > target:\n",
    "            return\n",
    "        \n",
    "        total.append(candidates[i])\n",
    "        for j in range(i, len(candidates)):\n",
    "            if sum(total) + candidates[j] > target:\n",
    "                continue\n",
    "            dfs(j,total)\n",
    "        total.pop()\n",
    "\n",
    "    for i in range(len(candidates)):\n",
    "        dfs(i,[])\n",
    "    \n",
    "    return res\n",
    "\n",
    "print(combinationSum([2,5,6,9],9))\n"
   ]
  },
  {
   "cell_type": "code",
   "execution_count": null,
   "id": "7aa46e70",
   "metadata": {},
   "outputs": [
    {
     "name": "stdout",
     "output_type": "stream",
     "text": [
      "[[]]\n"
     ]
    }
   ],
   "source": []
  },
  {
   "cell_type": "markdown",
   "id": "e16a5109",
   "metadata": {},
   "source": [
    "### Dynamic Programming"
   ]
  },
  {
   "cell_type": "markdown",
   "id": "414ee092",
   "metadata": {},
   "source": [
    "#### Combination Sum 2\n",
    "- You are given an array of integers candidates, which may contain duplicates, and a target integer target. Your task is to return a list of all unique combinations of candidates where the chosen numbers sum to target.\n",
    "\n",
    "- Each element from candidates may be chosen at most once within a combination. The solution set must not contain duplicate combinations.\n",
    "\n",
    "- You may return the combinations in any order and the order of the numbers in each combination can be in any order."
   ]
  },
  {
   "cell_type": "code",
   "execution_count": null,
   "id": "bc199440",
   "metadata": {},
   "outputs": [
    {
     "name": "stdout",
     "output_type": "stream",
     "text": [
      "[[2, 2, 2, 2], [2, 2, 2, 2], [2, 2, 2, 1, 1], [2, 2, 2, 2], [2, 2, 2, 2], [2, 2, 2, 1, 1], [2, 2, 4], [2, 2, 1, 2, 1], [2, 2, 1, 2, 1], [2, 2, 1, 1, 2], [2, 2, 1, 1, 2], [2, 2, 1, 1, 1, 1], [2, 2, 2, 2], [2, 2, 2, 2], [2, 2, 2, 1, 1], [2, 2, 2, 2], [2, 2, 2, 2], [2, 2, 2, 1, 1], [2, 2, 4], [2, 2, 1, 2, 1], [2, 2, 1, 2, 1], [2, 2, 1, 1, 2], [2, 2, 1, 1, 2], [2, 2, 1, 1, 1, 1], [2, 4, 2], [2, 4, 2], [2, 4, 1, 1], [2, 6], [2, 1, 2, 2, 1], [2, 1, 2, 2, 1], [2, 1, 2, 1, 2], [2, 1, 2, 1, 2], [2, 1, 2, 1, 1, 1], [2, 1, 2, 2, 1], [2, 1, 2, 2, 1], [2, 1, 2, 1, 2], [2, 1, 2, 1, 2], [2, 1, 2, 1, 1, 1], [2, 1, 4, 1], [2, 1, 1, 2, 2], [2, 1, 1, 2, 2], [2, 1, 1, 2, 1, 1], [2, 1, 1, 2, 2], [2, 1, 1, 2, 2], [2, 1, 1, 2, 1, 1], [2, 1, 1, 4], [2, 1, 1, 1, 2, 1], [2, 1, 1, 1, 2, 1], [2, 1, 1, 1, 1, 2], [2, 1, 1, 1, 1, 2], [2, 1, 1, 1, 1, 1, 1], [2, 1, 5], [2, 5, 1], [2, 2, 2, 2], [2, 2, 2, 2], [2, 2, 2, 1, 1], [2, 2, 2, 2], [2, 2, 2, 2], [2, 2, 2, 1, 1], [2, 2, 4], [2, 2, 1, 2, 1], [2, 2, 1, 2, 1], [2, 2, 1, 1, 2], [2, 2, 1, 1, 2], [2, 2, 1, 1, 1, 1], [2, 2, 2, 2], [2, 2, 2, 2], [2, 2, 2, 1, 1], [2, 2, 2, 2], [2, 2, 2, 2], [2, 2, 2, 1, 1], [2, 2, 4], [2, 2, 1, 2, 1], [2, 2, 1, 2, 1], [2, 2, 1, 1, 2], [2, 2, 1, 1, 2], [2, 2, 1, 1, 1, 1], [2, 4, 2], [2, 4, 2], [2, 4, 1, 1], [2, 6], [2, 1, 2, 2, 1], [2, 1, 2, 2, 1], [2, 1, 2, 1, 2], [2, 1, 2, 1, 2], [2, 1, 2, 1, 1, 1], [2, 1, 2, 2, 1], [2, 1, 2, 2, 1], [2, 1, 2, 1, 2], [2, 1, 2, 1, 2], [2, 1, 2, 1, 1, 1], [2, 1, 4, 1], [2, 1, 1, 2, 2], [2, 1, 1, 2, 2], [2, 1, 1, 2, 1, 1], [2, 1, 1, 2, 2], [2, 1, 1, 2, 2], [2, 1, 1, 2, 1, 1], [2, 1, 1, 4], [2, 1, 1, 1, 2, 1], [2, 1, 1, 1, 2, 1], [2, 1, 1, 1, 1, 2], [2, 1, 1, 1, 1, 2], [2, 1, 1, 1, 1, 1, 1], [2, 1, 5], [2, 5, 1], [4, 2, 2], [4, 2, 2], [4, 2, 1, 1], [4, 2, 2], [4, 2, 2], [4, 2, 1, 1], [4, 4], [4, 1, 2, 1], [4, 1, 2, 1], [4, 1, 1, 2], [4, 1, 1, 2], [4, 1, 1, 1, 1], [6, 2], [6, 2], [6, 1, 1], [1, 2, 2, 2, 1], [1, 2, 2, 2, 1], [1, 2, 2, 1, 2], [1, 2, 2, 1, 2], [1, 2, 2, 1, 1, 1], [1, 2, 2, 2, 1], [1, 2, 2, 2, 1], [1, 2, 2, 1, 2], [1, 2, 2, 1, 2], [1, 2, 2, 1, 1, 1], [1, 2, 4, 1], [1, 2, 1, 2, 2], [1, 2, 1, 2, 2], [1, 2, 1, 2, 1, 1], [1, 2, 1, 2, 2], [1, 2, 1, 2, 2], [1, 2, 1, 2, 1, 1], [1, 2, 1, 4], [1, 2, 1, 1, 2, 1], [1, 2, 1, 1, 2, 1], [1, 2, 1, 1, 1, 2], [1, 2, 1, 1, 1, 2], [1, 2, 1, 1, 1, 1, 1], [1, 2, 5], [1, 2, 2, 2, 1], [1, 2, 2, 2, 1], [1, 2, 2, 1, 2], [1, 2, 2, 1, 2], [1, 2, 2, 1, 1, 1], [1, 2, 2, 2, 1], [1, 2, 2, 2, 1], [1, 2, 2, 1, 2], [1, 2, 2, 1, 2], [1, 2, 2, 1, 1, 1], [1, 2, 4, 1], [1, 2, 1, 2, 2], [1, 2, 1, 2, 2], [1, 2, 1, 2, 1, 1], [1, 2, 1, 2, 2], [1, 2, 1, 2, 2], [1, 2, 1, 2, 1, 1], [1, 2, 1, 4], [1, 2, 1, 1, 2, 1], [1, 2, 1, 1, 2, 1], [1, 2, 1, 1, 1, 2], [1, 2, 1, 1, 1, 2], [1, 2, 1, 1, 1, 1, 1], [1, 2, 5], [1, 4, 2, 1], [1, 4, 2, 1], [1, 4, 1, 2], [1, 4, 1, 2], [1, 4, 1, 1, 1], [1, 6, 1], [1, 1, 2, 2, 2], [1, 1, 2, 2, 2], [1, 1, 2, 2, 1, 1], [1, 1, 2, 2, 2], [1, 1, 2, 2, 2], [1, 1, 2, 2, 1, 1], [1, 1, 2, 4], [1, 1, 2, 1, 2, 1], [1, 1, 2, 1, 2, 1], [1, 1, 2, 1, 1, 2], [1, 1, 2, 1, 1, 2], [1, 1, 2, 1, 1, 1, 1], [1, 1, 2, 2, 2], [1, 1, 2, 2, 2], [1, 1, 2, 2, 1, 1], [1, 1, 2, 2, 2], [1, 1, 2, 2, 2], [1, 1, 2, 2, 1, 1], [1, 1, 2, 4], [1, 1, 2, 1, 2, 1], [1, 1, 2, 1, 2, 1], [1, 1, 2, 1, 1, 2], [1, 1, 2, 1, 1, 2], [1, 1, 2, 1, 1, 1, 1], [1, 1, 4, 2], [1, 1, 4, 2], [1, 1, 4, 1, 1], [1, 1, 6], [1, 1, 1, 2, 2, 1], [1, 1, 1, 2, 2, 1], [1, 1, 1, 2, 1, 2], [1, 1, 1, 2, 1, 2], [1, 1, 1, 2, 1, 1, 1], [1, 1, 1, 2, 2, 1], [1, 1, 1, 2, 2, 1], [1, 1, 1, 2, 1, 2], [1, 1, 1, 2, 1, 2], [1, 1, 1, 2, 1, 1, 1], [1, 1, 1, 4, 1], [1, 1, 1, 1, 2, 2], [1, 1, 1, 1, 2, 2], [1, 1, 1, 1, 2, 1, 1], [1, 1, 1, 1, 2, 2], [1, 1, 1, 1, 2, 2], [1, 1, 1, 1, 2, 1, 1], [1, 1, 1, 1, 4], [1, 1, 1, 1, 1, 2, 1], [1, 1, 1, 1, 1, 2, 1], [1, 1, 1, 1, 1, 1, 2], [1, 1, 1, 1, 1, 1, 2], [1, 1, 1, 1, 1, 1, 1, 1], [1, 1, 1, 5], [1, 1, 5, 1], [1, 5, 2], [1, 5, 2], [1, 5, 1, 1], [5, 2, 1], [5, 2, 1], [5, 1, 2], [5, 1, 2], [5, 1, 1, 1]]\n"
     ]
    }
   ],
   "source": [
    "def combinationSum2(candidates: List[int], target: int) -> List[List[int]]:\n",
    "    res = []\n",
    "    part = []\n",
    "\n",
    "    def dfs(i,total):\n",
    "        if total == target:\n",
    "            res.append(part.copy())\n",
    "            return\n",
    "        if total > target:\n",
    "            return\n",
    "        \n",
    "        for i in candidates:\n",
    "            part.append(i)\n",
    "            dfs(i, total + i)\n",
    "            part.pop()\n",
    "    \n",
    "    dfs(0,0)\n",
    "    return res\n",
    "\n",
    "print(combinationSum2([9,2,2,4,6,1,5], 8))"
   ]
  },
  {
   "cell_type": "markdown",
   "id": "77de2257",
   "metadata": {},
   "source": [
    "#### Coin Change\n",
    "- You are given an integer array coins representing coins of different denominations (e.g. 1 dollar, 5 dollars, etc) and an integer amount representing a target amount of money.\n",
    "- Return the fewest number of coins that you need to make up the exact target amount. If it is impossible to make up the amount, return -1.\n",
    "- You may assume that you have an unlimitedn umber of each coin"
   ]
  },
  {
   "cell_type": "code",
   "execution_count": 48,
   "id": "12736f56",
   "metadata": {},
   "outputs": [
    {
     "name": "stdout",
     "output_type": "stream",
     "text": [
      "3\n"
     ]
    },
    {
     "data": {
      "text/plain": [
       "3"
      ]
     },
     "execution_count": 48,
     "metadata": {},
     "output_type": "execute_result"
    }
   ],
   "source": [
    "# def coinChange(coins: List[int], amount: int) -> int:\n",
    "#     ret = (int)(1e9)\n",
    "#     total = 0\n",
    "#     def dfs(i,total) -> int:\n",
    "#         nonlocal ret\n",
    "#         if i < 0 or total == amount:\n",
    "#             return 0\n",
    "        \n",
    "#         if total + coins[i] <= amount:\n",
    "#             ret = min(ret, 1 + dfs(i, total + coins[i]))\n",
    "#         dfs(i - 1,total)\n",
    "#         return ret\n",
    "#     return -1 if ret >= 1e9 else dfs(len(coins) - 1, total)\n",
    "\n",
    "def coinChange(coins: List[int], amount: int) -> int:\n",
    "    def dfs(i, total):\n",
    "        if total == amount:\n",
    "            return 0\n",
    "        if total > amount or i < 0:\n",
    "            return int(1e9)  # represents \"impossible\"\n",
    "        \n",
    "        # use current coin\n",
    "        use_it = 1 + dfs(i, total + coins[i])\n",
    "        # skip current coin\n",
    "        skip_it = dfs(i - 1, total)\n",
    "        \n",
    "        return min(use_it, skip_it)\n",
    "    \n",
    "    ans = dfs(len(coins) - 1, 0)\n",
    "    return -1 if ans >= int(1e9) else ans\n",
    "\n",
    "print(coinChange([1, 5, 10], 12))\n",
    "\n",
    "coinChange([1,5,10],12)"
   ]
  },
  {
   "cell_type": "markdown",
   "id": "da73e74d",
   "metadata": {},
   "source": [
    "#### 435. Non-overlapping Intervals\n"
   ]
  },
  {
   "cell_type": "markdown",
   "id": "612351f1",
   "metadata": {},
   "source": [
    "- Given an array of intervals intervals where intervals[i] = [starti, endi], return the minimum number of intervals you need to remove to make the rest of the intervals non-overlapping.\n",
    "\n",
    "    - Note that intervals which only touch at a point are non-overlapping. For example, [1, 2] and [2, 3] are non-overlapping."
   ]
  },
  {
   "cell_type": "code",
   "execution_count": 1,
   "id": "c1454272",
   "metadata": {},
   "outputs": [
    {
     "name": "stdout",
     "output_type": "stream",
     "text": [
      "1\n",
      "2\n",
      "0\n",
      "2\n"
     ]
    }
   ],
   "source": [
    "def eraseOverlapIntervals(intervals):\n",
    "    if not intervals:\n",
    "        return 0\n",
    "\n",
    "    # Step 1: Sort intervals based on their end time\n",
    "    intervals.sort(key=lambda x: x[1])\n",
    "\n",
    "    count = 0\n",
    "    prev_end = float('-inf')\n",
    "\n",
    "    for start, end in intervals:\n",
    "        if start >= prev_end:\n",
    "            # No overlap, update the end time of the last kept interval\n",
    "            prev_end = end\n",
    "        else:\n",
    "            # Overlap found, increment the counter\n",
    "            count += 1\n",
    "\n",
    "    return count\n",
    "\n",
    "    # range = [float('inf'),float('-inf')]\n",
    "    # min_intervals = 0\n",
    "    \n",
    "    # for start,end in intervals:   \n",
    "    #     if start <= range[0] and end <= range[0]:\n",
    "    #         range[0] = start\n",
    "    #     if end >= range[1] and start >= range[1]:\n",
    "    #         range[1] = end\n",
    "    #     else:\n",
    "    #         min_intervals += 1\n",
    "\n",
    "    # return min_intervals\n",
    "    \n",
    "    \"\"\"\n",
    "    :type intervals: List[List[int]]\n",
    "    :rtype: int\n",
    "    \"\"\"\n",
    "test1 = [[1,2],[2,3],[3,4],[1,3]]\n",
    "print(eraseOverlapIntervals(test1))\n",
    "\n",
    "test2 = [[1,2],[1,2],[1,2]]\n",
    "print(eraseOverlapIntervals(test2))\n",
    "\n",
    "test3 = [[1,2],[2,3]]\n",
    "print(eraseOverlapIntervals(test3))\n",
    "\n",
    "test4 = [[1, 100], [11, 22], [1, 11], [2, 12]]\n",
    "print(eraseOverlapIntervals(test4))"
   ]
  },
  {
   "cell_type": "markdown",
   "id": "fae71efd",
   "metadata": {},
   "source": [
    "### Linked List"
   ]
  },
  {
   "cell_type": "markdown",
   "id": "0a5d7d06",
   "metadata": {},
   "source": [
    "#### 24. Swap Nodes in Pairs\n",
    "- Given a linked list, swap every two adjacent nodes and return its head. You must solve the problem without modifying the values in the list's nodes (i.e., only nodes themselves may be changed.)"
   ]
  },
  {
   "cell_type": "code",
   "execution_count": null,
   "id": "af8572bc",
   "metadata": {},
   "outputs": [
    {
     "name": "stdout",
     "output_type": "stream",
     "text": [
      "2,1,4,3\n",
      "2,1,3\n",
      "2,1\n",
      "1\n",
      "\n"
     ]
    }
   ],
   "source": [
    "from typing import Optional\n",
    "\n",
    "class Solution(object):\n",
    "\n",
    "    \n",
    "    def swapPairs(self, head):\n",
    "\n",
    "        return self.swap(self,head,None,None,False)\n",
    "    \n",
    "    def swap(self,head: Optional[ListNode],const_head: Optional[ListNode],prev: Optional[object],first: bool): \n",
    "        curr = head\n",
    "\n",
    "        if not curr or not curr.next:\n",
    "            return const_head if const_head else curr\n",
    "\n",
    "        curr_next = curr.next\n",
    "\n",
    "        if prev: prev.next = curr.next\n",
    "        curr.next = curr_next.next\n",
    "        curr_next.next = curr\n",
    "       \n",
    "        if not first:\n",
    "            const_head = curr_next\n",
    "            first = True\n",
    "        return self.swap(self,curr.next,const_head,curr,first)\n",
    "    \n",
    "     \n",
    "test1 = create_list([1,2,3,4])\n",
    "test1Sol = Solution.swapPairs(Solution,test1)\n",
    "print_list(test1Sol)\n",
    "\n",
    "test2 = create_list([1,2,3])\n",
    "test2Sol = Solution.swapPairs(Solution,test2)\n",
    "print_list(test2Sol)\n",
    "\n",
    "test3 = create_list([1,2])\n",
    "test3Sol = Solution.swapPairs(Solution,test3)\n",
    "print_list(test3Sol)\n",
    "\n",
    "test4 = create_list([1])\n",
    "test4Sol = Solution.swapPairs(Solution,test4)\n",
    "print_list(test4Sol)\n",
    "\n",
    "test5Sol = Solution.swapPairs(Solution,None)\n",
    "print_list(test5Sol)\n",
    "\n"
   ]
  },
  {
   "cell_type": "markdown",
   "id": "0c446e4f",
   "metadata": {},
   "source": [
    "### Hash Map"
   ]
  },
  {
   "cell_type": "markdown",
   "id": "8d73046b",
   "metadata": {},
   "source": [
    "#### Clone Graph\n",
    "- Given a node in a connected undirected graph, return a deep copy of the graph.\n",
    "- Each node in the graph contains an integer value and a list of its neighbors.\n",
    "- The graph is shown in the test cases as an adjacency list. An adjacency list is a mapping of nodes to lists, used to represent a finite graph. Each list describes the set of neighbors of a node in the graph.\n",
    "- For simplicity, nodes values are numbered from 1 to n, where n is the total number of nodes in the graph. The index of each node within the adjacency list is the same as the node's value (1-indexed)."
   ]
  },
  {
   "cell_type": "code",
   "execution_count": null,
   "id": "26ab199c",
   "metadata": {},
   "outputs": [],
   "source": [
    "def cloneGraph(node: Optional['Node']) -> Optional['Node']:\n",
    "    \n",
    "    newGraph = {}\n",
    "\n",
    "    def dfs(first,newGraph):\n",
    "        if first.val != 1 and len(first.neighbours) < 2:\n",
    "            return\n",
    "        elif len(first.neighbours) < 2:\n",
    "            return\n",
    "                \n",
    "\n",
    "        \n",
    "        newGraph[first.val] = first.neighbours\n",
    "        for i in first.\n",
    "    \n",
    "\n",
    "    return\n",
    "\n",
    "cloneGraph(create_graph([[2],[1,3],[2]]))"
   ]
  },
  {
   "cell_type": "markdown",
   "id": "1212e41b",
   "metadata": {},
   "source": [
    "#### Top K Frequent Elements\n",
    "- Given an integer array nums and an integer k, return the k most frequent elements within the array.\n",
    "    The test cases are generated such that the answer is always unique.\n",
    "    You may return the output in any order."
   ]
  },
  {
   "cell_type": "code",
   "execution_count": 4,
   "id": "e3d87282",
   "metadata": {},
   "outputs": [
    {
     "data": {
      "text/plain": [
       "[3, 2]"
      ]
     },
     "execution_count": 4,
     "metadata": {},
     "output_type": "execute_result"
    }
   ],
   "source": [
    "from collections import Counter\n",
    "\n",
    "def topKFrequent(nums: List[int], k: int) -> List[int]:\n",
    "    freq = {}\n",
    "    for n in nums:\n",
    "        if n in freq:\n",
    "          freq.update({n: freq[n] + 1})\n",
    "        else:\n",
    "           freq[n] = 1\n",
    "\n",
    "    freq_sorted = dict(sorted(freq.items(), key=lambda item: item[1], reverse=True))\n",
    "    return list(freq_sorted.keys())[:k]\n",
    "\n",
    "topKFrequent([1,2,2,3,3,3],2)\n"
   ]
  },
  {
   "cell_type": "markdown",
   "id": "64baf74d",
   "metadata": {},
   "source": [
    "#### 36. Valid Sudoku\n",
    "- Determine if a 9 x 9 Sudoku board is valid. Only the filled cells need to be validated according to the following rules:\n",
    "\n",
    "    1. Each row must contain the digits 1-9 without repetition.\n",
    "    2. Each column must contain the digits 1-9 without repetition.\n",
    "    3. Each of the nine 3 x 3 sub-boxes of the grid must contain the digits 1-9 without repetition.\n"
   ]
  },
  {
   "cell_type": "code",
   "execution_count": 5,
   "id": "34f3ac95",
   "metadata": {},
   "outputs": [
    {
     "name": "stdout",
     "output_type": "stream",
     "text": [
      "5\n",
      "3\n",
      ".\n",
      ".\n",
      "7\n",
      ".\n",
      ".\n",
      ".\n",
      ".\n",
      "6\n",
      ".\n",
      ".\n",
      "1\n",
      "9\n",
      "5\n",
      ".\n",
      ".\n",
      ".\n",
      ".\n",
      "9\n",
      "8\n",
      ".\n",
      ".\n",
      ".\n",
      ".\n",
      "6\n",
      ".\n",
      "8\n",
      ".\n",
      ".\n",
      ".\n",
      "6\n",
      ".\n",
      ".\n",
      ".\n",
      "3\n",
      "4\n",
      ".\n",
      ".\n",
      "8\n",
      ".\n",
      "3\n",
      ".\n",
      ".\n",
      "1\n",
      "7\n",
      ".\n",
      ".\n",
      ".\n",
      "2\n",
      ".\n",
      ".\n",
      ".\n",
      "6\n",
      ".\n",
      "6\n",
      ".\n",
      ".\n",
      ".\n",
      ".\n",
      "2\n",
      "8\n",
      ".\n",
      ".\n",
      ".\n",
      ".\n",
      "4\n",
      "1\n",
      "9\n",
      ".\n",
      ".\n",
      "5\n",
      ".\n",
      ".\n",
      ".\n",
      ".\n",
      "8\n",
      ".\n",
      ".\n",
      "7\n",
      "9\n"
     ]
    },
    {
     "data": {
      "text/plain": [
       "'\\n:type board: List[List[str]]\\n:rtype: bool\\n'"
      ]
     },
     "execution_count": 5,
     "metadata": {},
     "output_type": "execute_result"
    }
   ],
   "source": [
    "from collections import Counter as counter\n",
    "def isValidSudoku(board):\n",
    "\n",
    "    rows = {}\n",
    "    columns = {}\n",
    "    squares = {}\n",
    "\n",
    "    for i,row in enumerate(board):\n",
    "        for j,element in enumerate(row):\n",
    "            square_index = (i/3) * 3 + (j / 3)\n",
    "            \n",
    "\n",
    "            \n",
    "            print(element)\n",
    "\n",
    "\n",
    "board = [[\"5\",\"3\",\".\",\".\",\"7\",\".\",\".\",\".\",\".\"]\n",
    "        ,[\"6\",\".\",\".\",\"1\",\"9\",\"5\",\".\",\".\",\".\"]\n",
    "        ,[\".\",\"9\",\"8\",\".\",\".\",\".\",\".\",\"6\",\".\"]\n",
    "        ,[\"8\",\".\",\".\",\".\",\"6\",\".\",\".\",\".\",\"3\"]\n",
    "        ,[\"4\",\".\",\".\",\"8\",\".\",\"3\",\".\",\".\",\"1\"]\n",
    "        ,[\"7\",\".\",\".\",\".\",\"2\",\".\",\".\",\".\",\"6\"]\n",
    "        ,[\".\",\"6\",\".\",\".\",\".\",\".\",\"2\",\"8\",\".\"]\n",
    "        ,[\".\",\".\",\".\",\"4\",\"1\",\"9\",\".\",\".\",\"5\"]\n",
    "        ,[\".\",\".\",\".\",\".\",\"8\",\".\",\".\",\"7\",\"9\"]]\n",
    "\n",
    "isValidSudoku(board)\n",
    "\n",
    "\"\"\"\n",
    ":type board: List[List[str]]\n",
    ":rtype: bool\n",
    "\"\"\"\n"
   ]
  },
  {
   "cell_type": "code",
   "execution_count": null,
   "id": "0c3cf537",
   "metadata": {},
   "outputs": [],
   "source": []
  },
  {
   "cell_type": "markdown",
   "id": "b7f03fe6",
   "metadata": {},
   "source": [
    "#### Longest Consecutive Sequence\n",
    "- Given an unsorted array of integers nums, return the length of the longest consecutive elements sequence. You must write an algorithm that runs in O(n) time."
   ]
  },
  {
   "cell_type": "code",
   "execution_count": 6,
   "id": "a2305660",
   "metadata": {},
   "outputs": [
    {
     "name": "stdout",
     "output_type": "stream",
     "text": [
      "9\n"
     ]
    }
   ],
   "source": [
    "def longestconsecutive(nums: List[int]) -> int:\n",
    "    longest = 0\n",
    "    count = 0\n",
    "\n",
    "    for i in sorted(nums):\n",
    "        if i+1 in nums:\n",
    "            count += 1\n",
    "        elif count > longest:\n",
    "            longest = max(longest,count)\n",
    "        else: count = 0\n",
    "        \n",
    "    return longest\n",
    "\n",
    "print(longestconsecutive([0,3,7,2,5,8,4,6,0,1]))"
   ]
  },
  {
   "cell_type": "markdown",
   "id": "0390642d",
   "metadata": {},
   "source": [
    "### Binary Search\n"
   ]
  },
  {
   "cell_type": "markdown",
   "id": "21877426",
   "metadata": {},
   "source": [
    "#### Binary Tree Level Order Traversal\n",
    "- Given the root of a binary tree, return the lvel order traversal of it's node's value from left to right, level by level"
   ]
  },
  {
   "cell_type": "code",
   "execution_count": 54,
   "id": "b8f1050b",
   "metadata": {},
   "outputs": [],
   "source": [
    "def levelOrder(root: Optional[TreeNode]) -> List[List[int]]:\n",
    "\n",
    "        res = []\n",
    "        if not root:\n",
    "            return res\n",
    "        \n",
    "        def bfs(queue):\n",
    "            if not queue:\n",
    "                return\n",
    "            next_q = []\n",
    "            level = []\n",
    "            for node in queue:\n",
    "                if node:\n",
    "                    level.append(node.val)\n",
    "                    if node.left:\n",
    "                        next_q.append(node.left)\n",
    "                    if node.right:\n",
    "                        next_q.append(node.right)\n",
    "            if level:\n",
    "                res.append(level)\n",
    "            bfs(next_q)\n",
    "\n",
    "        bfs([root])\n",
    "        return res\n",
    "\n",
    "    # DFS\n",
    "    # res = []\n",
    "    # def dfs(node, depth):\n",
    "    #     if not node:\n",
    "    #         return None\n",
    "    #     if len(res) == depth:\n",
    "    #         res.append([])\n",
    "        \n",
    "    #     res[depth].append(node.val)\n",
    "    #     dfs(node.left, depth + 1)\n",
    "    #     dfs(node.right, depth + 1)\n",
    "\n",
    "    # dfs(root, 0)\n",
    "    # return res\n"
   ]
  },
  {
   "cell_type": "markdown",
   "id": "764e8270",
   "metadata": {},
   "source": [
    "#### Valid Binary Search Tree\n",
    "- Given the root of a binary tree, return true if it is a valid binary search tree, otherwise return false."
   ]
  },
  {
   "cell_type": "code",
   "execution_count": 51,
   "id": "f6f0ea27",
   "metadata": {},
   "outputs": [
    {
     "name": "stdout",
     "output_type": "stream",
     "text": [
      "True\n",
      "False\n"
     ]
    }
   ],
   "source": [
    "def isValidBST(root: Optional[TreeNode]) -> bool:\n",
    "    if not root:\n",
    "        return True\n",
    "\n",
    "    buff = deque([(root,float(\"-inf\"), float(\"inf\"))])\n",
    "    \n",
    "    while buff:\n",
    "        curr, left, right = buff.popleft()\n",
    "        if not (left < curr.val < right):\n",
    "            return False\n",
    "        if curr.left:\n",
    "            buff.append((curr.left, left, curr.val))\n",
    "        if curr.right:\n",
    "            buff.append((curr.right, curr.val, right))\n",
    "\n",
    "    return True\n",
    "tree2 = create_tree([2,1,3])\n",
    "tree3 = create_tree([5,4,6,None,None,3,7])\n",
    "\n",
    "print(isValidBST(tree2))\n",
    "print(isValidBST(tree3))\n"
   ]
  },
  {
   "cell_type": "markdown",
   "id": "5f4fc256",
   "metadata": {},
   "source": [
    "- For BFS we use an iterative approach because it explores levels and recursion is a depth first type of traversal\n",
    "- Approach. if curr is not > left and not less than right val return false.\n",
    "- Else we append the left and the original left, and the original left value and the right value of right value of the current for the right"
   ]
  },
  {
   "cell_type": "markdown",
   "id": "934a7648",
   "metadata": {},
   "source": [
    "#### 153. Find Minimum in Rotated Sorted Array"
   ]
  },
  {
   "cell_type": "markdown",
   "id": "ec8f8178",
   "metadata": {},
   "source": [
    "- Suppose an array of length n sorted in ascending order is rotated between 1 and n times. For example, the array nums = [0,1,2,4,5,6,7] might become:\n",
    "\n",
    "    - [4,5,6,7,0,1,2,3] if it was rotated 4 times.\n",
    "    - [0,1,2,3,4,5,6,7] if it was rotated 7 times."
   ]
  },
  {
   "cell_type": "code",
   "execution_count": null,
   "id": "94646b2b",
   "metadata": {},
   "outputs": [],
   "source": [
    "def findMin(self, nums):\n",
    "    \n",
    "    curr = 0\n",
    "    left = curr *2 + 1\n",
    "    right = curr *2 + 2\n",
    "    min = min(curr,left,right)\n",
    "\n",
    "    while right < len(nums):\n",
    "        \n",
    "        return\n",
    "    \n",
    "    \n",
    "    \"\"\"\n",
    "    :type nums: List[int]\n",
    "    :rtype: int\n",
    "    \"\"\""
   ]
  },
  {
   "cell_type": "markdown",
   "id": "a8fe7267",
   "metadata": {},
   "source": [
    "### Sliding window"
   ]
  },
  {
   "cell_type": "markdown",
   "id": "b3e87b93",
   "metadata": {},
   "source": [
    "#### Find All anagrams in a String\n",
    "- Given two strings s and p, return an array of all the start indices of p's in s. You may return the answer in any order."
   ]
  },
  {
   "cell_type": "code",
   "execution_count": 25,
   "id": "0bb8a77e",
   "metadata": {},
   "outputs": [
    {
     "name": "stdout",
     "output_type": "stream",
     "text": [
      "[0, 6]\n",
      "[0, 1, 2]\n"
     ]
    }
   ],
   "source": [
    "from collections import Counter\n",
    "def findAnagrams(s: str, p:str) -> List[int]:\n",
    "    window = len(p)\n",
    "    p_count = Counter(p)\n",
    "    ret = []\n",
    "    curr = 0\n",
    "    while curr + window < len(s):\n",
    "        s_count = Counter(s[curr:curr + window])\n",
    "        if s_count == p_count:\n",
    "            ret.append(curr)\n",
    "        curr+=1\n",
    "    return ret\n",
    "\n",
    "print(findAnagrams('cbaebabacd','abc'))\n",
    "print(findAnagrams('abc',''))"
   ]
  },
  {
   "cell_type": "markdown",
   "id": "bed4d0eb",
   "metadata": {},
   "source": [
    "#### Permutation in String"
   ]
  },
  {
   "cell_type": "markdown",
   "id": "89a28fb1",
   "metadata": {},
   "source": [
    "- You are given two strings s1 and s2.\n",
    "\n",
    "- Return true if s2 contains a permutation of s1, or false otherwise. That means if a permutation of s1 exists as a substring of s2, then return true.\n",
    "Both strings only contain lowercase letters."
   ]
  },
  {
   "cell_type": "code",
   "execution_count": 67,
   "id": "5f26a319",
   "metadata": {},
   "outputs": [
    {
     "name": "stdout",
     "output_type": "stream",
     "text": [
      "True\n",
      "True\n",
      "True\n",
      "False\n",
      "True\n",
      "False\n",
      "False\n",
      "True\n",
      "True\n",
      "False\n",
      "False\n",
      "False\n",
      "False\n"
     ]
    }
   ],
   "source": [
    "from collections import Counter\n",
    "# def checkInclusion(s1: str, s2: str) -> bool:\n",
    "#     low,high = 0, len(s2)\n",
    "#     found = False\n",
    "#     while low != high and not found:\n",
    "#         if set(s1).issubset(s2[low:high]) and len(s1) == len(s2[low:high]):\n",
    "#             found = True\n",
    "#         elif set(s1).issubset(s2[low+1:high]):    \n",
    "#             low += 1\n",
    "#         elif set(s1).issubset(s2[low:high-1]):\n",
    "#             high -= 1\n",
    "#         else:\n",
    "#             return False\n",
    "#     return found\n",
    "\n",
    "def checkInclusion(s1: str, s2: str) -> bool:\n",
    "    low,high = 0, len(s1)\n",
    "    found = False\n",
    "    while high < len(s2) and not found:\n",
    "        if Counter(s1) == Counter(s2[low:high]):\n",
    "            found = True\n",
    "        low+=1\n",
    "        high+=1\n",
    "    return found\n",
    "\n",
    "print(checkInclusion('ky', 'ainwkckifykxlribaypk'))\n",
    "print(checkInclusion('abc','lecabee'))\n",
    "print(checkInclusion('abc','cabee'))\n",
    "print(checkInclusion('abc','lecab'))\n",
    "print(checkInclusion('a','lecabee'))\n",
    "print(checkInclusion('z','lecabee'))\n",
    "print(checkInclusion('abc',''))\n",
    "print(checkInclusion('','lecabee'))\n",
    "print(checkInclusion('a','ab'))\n",
    "print(checkInclusion('a','b'))\n",
    "print(checkInclusion('a',''))\n",
    "print(checkInclusion('',''))\n",
    "print(checkInclusion('hello','ooolleoooleh'))\n"
   ]
  },
  {
   "cell_type": "markdown",
   "id": "6178c73a",
   "metadata": {},
   "source": [
    "#### 3 Longest Substring Without Repeating Characters\n",
    "- Incomplete"
   ]
  },
  {
   "cell_type": "code",
   "execution_count": 35,
   "id": "d29bd09e",
   "metadata": {},
   "outputs": [
    {
     "name": "stdout",
     "output_type": "stream",
     "text": [
      "4\n"
     ]
    }
   ],
   "source": [
    "import string\n",
    "\n",
    "def lengthOfLongestSubstring(s):  \n",
    "    longest_word = \"\"\n",
    "    sub_seq = set()\n",
    "    last_letter = \"\"\n",
    "    index = 0\n",
    "\n",
    "    for char in s:  \n",
    "        if(char not in sub_seq): \n",
    "            sub_seq.add(char)\n",
    "            last_letter = char\n",
    "        else:   \n",
    "            if len(sub_seq) > len(longest_word):  \n",
    "                longest_word = \"\".join(sub_seq)\n",
    "                curr = sub_seq.pop()\n",
    "                sub_seq.clear()\n",
    "                sub_seq.add(last_letter)\n",
    "                sub_seq.add(char)\n",
    "\n",
    "    return max(len(longest_word),len(sub_seq))\n",
    "\n",
    "print(lengthOfLongestSubstring(\"anviaj\"))"
   ]
  },
  {
   "cell_type": "markdown",
   "id": "ef16e623",
   "metadata": {},
   "source": [
    "### Stack"
   ]
  },
  {
   "cell_type": "markdown",
   "id": "ba24992c",
   "metadata": {},
   "source": [
    "#### Largest Rectangle in Histogram - Incomplete\n",
    "- Given an array of integers heights representing the histogram's bar height where the width of each bar is 1, return the area of the largest rectangle in the histogram"
   ]
  },
  {
   "cell_type": "markdown",
   "id": "34f33a68",
   "metadata": {},
   "source": []
  },
  {
   "cell_type": "code",
   "execution_count": 7,
   "id": "043eaf66",
   "metadata": {},
   "outputs": [
    {
     "name": "stdout",
     "output_type": "stream",
     "text": [
      "[2, 1, 1, 1, 1, 1]\n"
     ]
    },
    {
     "data": {
      "text/plain": [
       "0"
      ]
     },
     "execution_count": 7,
     "metadata": {},
     "output_type": "execute_result"
    }
   ],
   "source": [
    "def largestRectangleArea(heights: List[int]) -> int:\n",
    "\n",
    "    rectangle = []\n",
    "    max = heights[0]\n",
    "    rectangle.append(max)\n",
    "\n",
    "    for i in range(len(heights)):\n",
    "        if i > 0:\n",
    "            if heights[i] > rectangle[-1]:\n",
    "                rectangle.append(rectangle[-1])\n",
    "            else:\n",
    "                rectangle.append(heights[i])\n",
    "    print(rectangle)\n",
    "\n",
    "    return 0\n",
    "largestRectangleArea([2,1,5,6,2,3])"
   ]
  },
  {
   "cell_type": "markdown",
   "id": "219c6d93",
   "metadata": {},
   "source": [
    "#### 155. Min Stack"
   ]
  },
  {
   "cell_type": "markdown",
   "id": "8cd58196",
   "metadata": {},
   "source": [
    "- Design a stack that supports push, pop, top, and retrieving the minimum element in constant time.\n",
    "\n",
    "Implement the MinStack class:\n",
    "\n",
    "    MinStack() initializes the stack object.\n",
    "    void push(int val) pushes the element val onto the stack.\n",
    "    void pop() removes the element on the top of the stack.\n",
    "    int top() gets the top element of the stack.\n",
    "    int getMin() retrieves the minimum element in the stack.\n",
    "\n",
    "You must implement a solution with O(1) time complexity for each function."
   ]
  },
  {
   "cell_type": "code",
   "execution_count": 75,
   "id": "7741dae4",
   "metadata": {},
   "outputs": [
    {
     "name": "stdout",
     "output_type": "stream",
     "text": [
      "-3\n",
      "0\n",
      "-2\n"
     ]
    }
   ],
   "source": [
    "class MinStack(object):\n",
    "    def __init__(self):\n",
    "        self.my_list = []\n",
    "        self.min_num = []\n",
    "\n",
    "    def push(self, val):\n",
    "        self.my_list.append(val)\n",
    "        if not self.min_num or self.my_list[-1] <= self.min_num[-1]:\n",
    "            self.min_num.append(val)\n",
    "        \n",
    "    def pop(self):\n",
    "        val = self.my_list.pop()\n",
    "        if val == self.min_num[-1]:\n",
    "             self.min_num.pop()\n",
    "        return val\n",
    "        \n",
    "\n",
    "    def top(self):\n",
    "       return self.my_list[-1]\n",
    "        \n",
    "\n",
    "    def getMin(self):\n",
    "        return self.min_num[-1]\n",
    "\n",
    "minStack = MinStack()\n",
    "minStack.push(-2)\n",
    "minStack.push(0)\n",
    "minStack.push(-3)\n",
    "print(minStack.getMin()) # return -3\n",
    "minStack.pop()\n",
    "print(minStack.top())    # return 0\n",
    "print(minStack.getMin()) # return -2"
   ]
  },
  {
   "cell_type": "markdown",
   "id": "e3d70b6c",
   "metadata": {},
   "source": [
    "#### 739. Daily Temperatures"
   ]
  },
  {
   "cell_type": "markdown",
   "id": "adaa132d",
   "metadata": {},
   "source": [
    "- Given an array of integers temperatures represents the daily temperatures, return an array answer such that answer[i] is the number of days you have to wait after the ith day to get a warmer temperature. If there is no future day for which this is possible, keep answer[i] == 0 instead."
   ]
  },
  {
   "cell_type": "code",
   "execution_count": 74,
   "id": "ae0aed42",
   "metadata": {},
   "outputs": [
    {
     "name": "stdout",
     "output_type": "stream",
     "text": [
      "[1, 1, 4, 2, 1, 1, 0, 0]\n",
      "[1, 1, 1, 0]\n",
      "[1, 1, 0]\n",
      "[8, 1, 5, 4, 3, 2, 1, 1, 0, 0]\n"
     ]
    }
   ],
   "source": [
    "# def dailyTemperatures(temperatures):\n",
    "#     answer = [0] * len(temperatures)\n",
    "#     stack = []\n",
    "\n",
    "#     for i in range(len(temperatures)):\n",
    "        \n",
    "#         if not stack:\n",
    "#             stack.append(i)\n",
    "#         else:\n",
    "#             top = stack.pop()\n",
    "#             while temperatures[i] > temperatures[top]:  \n",
    "#                 answer[top] = i - top\n",
    "#                 if not stack:   break\n",
    "#                 top = stack.pop()    \n",
    "#             if temperatures[i] <= temperatures[top]:\n",
    "#                 stack.append(top)\n",
    "#                 stack.append(i)\n",
    "#             else:\n",
    "#                 stack.append(i)\n",
    "#     return answer\n",
    "\n",
    "# V2 - trying to optimize - working in vs code and not working in leetcode needs python 3.8+ due to walrus in indexing\n",
    "\n",
    "def dailyTemperatures(temperatures):\n",
    "    answer = [0] * len(temperatures)\n",
    "    stack = []\n",
    "\n",
    "    for i in range(len(temperatures)):        \n",
    "        if not stack:\n",
    "            stack.append(i)\n",
    "        else:\n",
    "            while stack and temperatures[i] > temperatures[top := stack[-1]]:  \n",
    "                answer[top] = i - top\n",
    "                stack.pop()   \n",
    "                if not stack: break\n",
    "            stack.append(i)\n",
    "    return answer\n",
    "\n",
    "print(dailyTemperatures([73,74,75,71,69,72,76,73]))\n",
    "print(dailyTemperatures([30,40,50,60]))\n",
    "print(dailyTemperatures([30,60,90]))\n",
    "print(dailyTemperatures([89,62,70,58,47,47,46,76,100,70]))\n"
   ]
  },
  {
   "cell_type": "markdown",
   "id": "b82f8e44",
   "metadata": {},
   "source": [
    "### Two Pointers"
   ]
  },
  {
   "cell_type": "markdown",
   "id": "8ac8b234",
   "metadata": {},
   "source": [
    "#### Longest Repeating Character Replacement\n",
    "- You are given a string s consisting of only uppercase english characters and an integer k. You can choose up to k characters of the string and replace them with any other uppercase English character.\n",
    "\n",
    "After performing at most k replacements, return the length of the longest substring which contains only one distinct character."
   ]
  },
  {
   "cell_type": "code",
   "execution_count": null,
   "id": "94223183",
   "metadata": {},
   "outputs": [
    {
     "name": "stdout",
     "output_type": "stream",
     "text": [
      "Counter({'A': 2, 'B': 2})\n",
      "None\n"
     ]
    }
   ],
   "source": [
    "from collections import Counter as count\n",
    "def characterReplacement(s: str, k: int) -> int:\n",
    "    longest = float('-inf')\n",
    "    low, high = 0,len(s)\n",
    "    curr = 0\n",
    "\n",
    "    let_freq = count(s)\n",
    "    print(let_freq)\n",
    "\n",
    "    let_to_change = let_freq.pop(min(let_freq))\n",
    "\n",
    "    while low < high and curr < k:\n",
    "        if s[low] == let_to_change:\n",
    "\n",
    "\n",
    "    return\n",
    "\n",
    "print(characterReplacement(\"ABAB\",2))"
   ]
  },
  {
   "cell_type": "markdown",
   "id": "9169e852",
   "metadata": {},
   "source": [
    "#### Find K closest elements"
   ]
  },
  {
   "cell_type": "markdown",
   "id": "f887ff40",
   "metadata": {},
   "source": [
    "- Given a sorted integer array arr, two integers k and x, return the k closest integers to x in the array. The result should also be sorted in ascending order.\n",
    "\n",
    "- An integer a is closer to x than an integer b if:\n",
    "    - |a - x| < |b - x|, or\n",
    "    - |a - x| == |b - x| and a < b\n"
   ]
  },
  {
   "cell_type": "code",
   "execution_count": null,
   "id": "670c22fe",
   "metadata": {},
   "outputs": [
    {
     "name": "stdout",
     "output_type": "stream",
     "text": [
      "[1, 2, 3, 4, 5]\n",
      "[1, 2, 3, 4]\n",
      "[1, 1, 2, 3, 4, 5]\n",
      "[1, 1, 2, 3]\n",
      "[1, 1, 1, 10, 10, 10]\n",
      "[10]\n"
     ]
    }
   ],
   "source": [
    "import heapq as heap\n",
    "def findClosestElements(arr: List[int], k: int, x: int) -> List[int]:\n",
    "    if len(arr) < 2:\n",
    "        return arr[0]\n",
    "    low, high = 0, len(arr) - 1\n",
    "    max = []\n",
    "    print(arr)\n",
    "\n",
    "    # def closest(i):\n",
    "    #         return (abs(arr[i] - x), arr[i])\n",
    "\n",
    "    max_heap = []\n",
    "\n",
    "    while low <= high:\n",
    "        second = (abs(arr[low] - x) == abs(arr[high] - x) and arr[low] < arr[high])\n",
    "        if abs(arr[low] - x) < abs(arr[high] - x) or second:\n",
    "            heap.heappush(max_heap, (-abs(arr[low]-x), -arr[low], arr[low]))  # max-heap via negatives\n",
    "            low += 1\n",
    "        else:\n",
    "            heap.heappush(max_heap, (-abs(arr[high]-x), -arr[high], arr[high]))\n",
    "            high -= 1\n",
    "\n",
    "        # If heap grows beyond k, remove the farthest element\n",
    "        if len(max_heap) > k:\n",
    "            heap.heappop(max_heap)\n",
    "        \n",
    "    result = [item[2] for item in max_heap]\n",
    "    result.sort() \n",
    "\n",
    "    # while low<high:\n",
    "    #     second = ((abs(arr[low] - x) == abs(arr[high] - x)) and arr[low] < arr[high])\n",
    "    #     if abs(arr[low] - x) < abs(arr[high] - x) or second:\n",
    "    #         heap.heappush(max, arr[low])\n",
    "    #         low += 1\n",
    "    #     else:\n",
    "    #         heap.heappush(max, arr[high])\n",
    "    #         high -=1\n",
    "\n",
    "    ###############################Method-2#####################################################\n",
    "    # result_indices = heap.nsmallest(k, range(len(arr)), key=closest)\n",
    "    # return [arr[i] for i in result_indices]\n",
    "    return result\n",
    "\n",
    "print(findClosestElements([1,2,3,4,5],4,3))\n",
    "print(findClosestElements([1,1,2,3,4,5],4,-1))\n",
    "print(findClosestElements([1,1,1,10,10,10],1,9))\n",
    "\n",
    "# Output: [1,2,3,4]\n"
   ]
  },
  {
   "cell_type": "markdown",
   "id": "6212a501",
   "metadata": {},
   "source": [
    "#### Container With Most Water\n",
    "- You are given an integer array heights where heights[i] represents the height of the ithith bar.\n",
    "You may choose any two bars to form a container. Return the maximum amount of water a container can store."
   ]
  },
  {
   "cell_type": "code",
   "execution_count": 67,
   "id": "ac1dd076",
   "metadata": {},
   "outputs": [
    {
     "name": "stdout",
     "output_type": "stream",
     "text": [
      "36\n"
     ]
    }
   ],
   "source": [
    "import random as rand\n",
    "def maxArea(heights: List[int]) -> int:\n",
    "    l, r = 0, len(heights) - 1\n",
    "    res = 0\n",
    "\n",
    "    while l < r:\n",
    "        area = min(heights[l], heights[r]) * (r - l)\n",
    "        res = max(res, area)\n",
    "        if heights[l] <= heights[r]:\n",
    "            l += 1\n",
    "        else:\n",
    "            r -= 1\n",
    "    return res\n",
    "\n",
    "print(maxArea([1,7,2,5,4,7,3,6]))\n",
    "\n",
    "#Time limit, Looked up solution"
   ]
  },
  {
   "cell_type": "markdown",
   "id": "be488e87",
   "metadata": {},
   "source": [
    "#### 167. Two Sum II - Input Array Is Sorted"
   ]
  },
  {
   "cell_type": "markdown",
   "id": "e9821011",
   "metadata": {},
   "source": [
    "- Given a 1-indexed array of integers numbers that is already sorted in non-decreasing order, find two numbers such that they add up to a specific target number. Let these two numbers be numbers[index1] and numbers[index2] where 1 <= index1 < index2 <= numbers.length. \n",
    "- Return the indices of the two numbers, index1 and index2, added by one as an integer array [index1, index2] of length 2.\n",
    "- The tests are generated such that there is exactly one solution. You may not use the same element twice.\n",
    "- Your solution must use only constant extra space."
   ]
  },
  {
   "cell_type": "code",
   "execution_count": 7,
   "id": "07e83af4",
   "metadata": {},
   "outputs": [
    {
     "name": "stdout",
     "output_type": "stream",
     "text": [
      "[1, 2]\n",
      "[1, 3]\n",
      "[1, 2]\n"
     ]
    }
   ],
   "source": [
    "def twoSum(numbers, target):\n",
    "    left = 0\n",
    "    right = len(numbers) - 1\n",
    "    sum_elements = sum([numbers[left], numbers[right]])\n",
    "    while sum_elements != target and right != left:\n",
    "        if sum_elements < target:\n",
    "            left += 1\n",
    "        elif sum_elements > target:\n",
    "            right -= 1\n",
    "        sum_elements = sum([numbers[left], numbers[right]])\n",
    "    return [left + 1,right + 1]\n",
    "\n",
    "print(twoSum([3,4,5,6], 7))\n",
    "print(twoSum([2,3,4], 6))\n",
    "print(twoSum([-1,0],-1))"
   ]
  }
 ],
 "metadata": {
  "kernelspec": {
   "display_name": "base",
   "language": "python",
   "name": "python3"
  },
  "language_info": {
   "codemirror_mode": {
    "name": "ipython",
    "version": 3
   },
   "file_extension": ".py",
   "mimetype": "text/x-python",
   "name": "python",
   "nbconvert_exporter": "python",
   "pygments_lexer": "ipython3",
   "version": "3.13.5"
  }
 },
 "nbformat": 4,
 "nbformat_minor": 5
}
