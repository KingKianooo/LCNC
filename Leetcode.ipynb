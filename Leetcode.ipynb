{
 "cells": [
  {
   "cell_type": "markdown",
   "id": "486be465",
   "metadata": {},
   "source": [
    "# Data Structures"
   ]
  },
  {
   "cell_type": "markdown",
   "id": "435c8a79",
   "metadata": {},
   "source": [
    "### Linked List "
   ]
  },
  {
   "cell_type": "code",
   "execution_count": 51,
   "id": "25ac8caf",
   "metadata": {},
   "outputs": [],
   "source": [
    "from typing import List\n",
    "\n",
    "class ListNode:\n",
    "    def __init__(self, val=0, next=None):\n",
    "        self.val = val\n",
    "        self.next = next\n",
    "        \n",
    "def create_list(arr: List[int]) -> ListNode:\n",
    "    head = ListNode(arr[0])\n",
    "    current = head\n",
    "    for val in arr[1:]:\n",
    "        current.next = ListNode(val)\n",
    "        current = current.next\n",
    "    return head\n",
    "\n",
    "# tail points to head\n",
    "def create_circular_list(arr: List[int]) -> ListNode:\n",
    "    head = ListNode(arr[0])\n",
    "    current = head\n",
    "    for val in arr[1:]:\n",
    "        current.next = ListNode(val)\n",
    "        current = current.next\n",
    "    current.next = head\n",
    "    return head\n",
    "\n",
    "def print_list(list: ListNode): \n",
    "    curr = list\n",
    "    values = []\n",
    "    while curr is not None:\n",
    "        values.append(str(curr.val))\n",
    "        curr = curr.next\n",
    "    print(','.join(values))\n"
   ]
  },
  {
   "cell_type": "markdown",
   "id": "5ed74e7b",
   "metadata": {},
   "source": [
    "# Easy"
   ]
  },
  {
   "cell_type": "markdown",
   "id": "95eca478",
   "metadata": {},
   "source": [
    "#### 3136. Valid Word\n",
    "- Incomplete"
   ]
  },
  {
   "cell_type": "markdown",
   "id": "17d630e8",
   "metadata": {},
   "source": [
    "- A word is considered valid if:\n",
    "\n",
    "    It contains a minimum of 3 characters.\n",
    "    It contains only digits (0-9), and English letters (uppercase and lowercase).\n",
    "    It includes at least one vowel.\n",
    "    It includes at least one consonant.\n",
    "        You are given a string word.\n",
    "            Return true if word is valid, otherwise, return false."
   ]
  },
  {
   "cell_type": "code",
   "execution_count": 76,
   "id": "063c938e",
   "metadata": {},
   "outputs": [
    {
     "data": {
      "text/plain": [
       "True"
      ]
     },
     "execution_count": 76,
     "metadata": {},
     "output_type": "execute_result"
    }
   ],
   "source": [
    "import string\n",
    "\n",
    "def isValid(word):\n",
    "    vowels = {'a','e','i','o','u'}\n",
    "    special_chars = {'@', '#', '$'}\n",
    "    \n",
    "    vowel = False\n",
    "    consonant = False\n",
    "\n",
    "    if len(word) < 3:\n",
    "        return False\n",
    "    \n",
    "    for char in word:   \n",
    "        if char in string.ascii_letters:    \n",
    "            if char in vowels and not vowel:  \n",
    "                vowel = True\n",
    "            elif char in string.ascii_letters and char not in vowels and not consonant:   \n",
    "                consonant = True  \n",
    "        elif char not in special_chars and char not in string.digits and char not in string.ascii_letters:    \n",
    "            return False\n",
    "    \n",
    "    if vowel and consonant:\n",
    "        return True\n",
    "    else:   \n",
    "        return False\n",
    "\n",
    "isValid(\"234Adas\")\n"
   ]
  },
  {
   "cell_type": "markdown",
   "id": "c123416d",
   "metadata": {},
   "source": [
    "### Linked List, Two Pointers"
   ]
  },
  {
   "cell_type": "markdown",
   "id": "ba750ec3",
   "metadata": {},
   "source": [
    "#### 141. Linked List Cycle"
   ]
  },
  {
   "cell_type": "markdown",
   "id": "50dc0957",
   "metadata": {},
   "source": [
    "- There is a cycle in a linked list if there is some node in the list that can be reached again by continuously following the next pointer. Internally, pos is used to denote the index of the node that tail's next pointer is connected to. Note that pos is not passed as a parameter.\n",
    "\n",
    "Return true if there is a cycle in the linked list. Otherwise, return false."
   ]
  },
  {
   "cell_type": "code",
   "execution_count": 198,
   "id": "c5dfb3c2",
   "metadata": {},
   "outputs": [
    {
     "name": "stdout",
     "output_type": "stream",
     "text": [
      "True\n"
     ]
    }
   ],
   "source": [
    "def hasCycle(head):\n",
    "        ptr1 = ptr2 = head\n",
    "        while ptr1 and ptr1.next and ptr2.next and ptr2.next.next:  \n",
    "            ptr1 = ptr1.next\n",
    "            ptr2 = ptr2.next.next\n",
    "            if ptr1 == ptr2:    \n",
    "                return True\n",
    "        return False \n",
    "\n",
    "head = create_circular_list([3,2,0,-4])\n",
    "print(hasCycle(head))"
   ]
  },
  {
   "cell_type": "markdown",
   "id": "f367377b",
   "metadata": {},
   "source": [
    "### Sliding Window\n"
   ]
  },
  {
   "cell_type": "markdown",
   "id": "1802653a",
   "metadata": {},
   "source": [
    "#### 643. Maximum Average Subarray I"
   ]
  },
  {
   "cell_type": "markdown",
   "id": "2299e25d",
   "metadata": {},
   "source": [
    "- You are given an integer array nums consisting of n elements, and an integer k.\n",
    "\n",
    "Find a contiguous subarray whose length is equal to k that has the maximum average value and return this value. Any answer with a calculation error less than 10-5 will be accepted."
   ]
  },
  {
   "cell_type": "code",
   "execution_count": 42,
   "id": "14d1be9e",
   "metadata": {},
   "outputs": [
    {
     "name": "stdout",
     "output_type": "stream",
     "text": [
      "12.75\n",
      "5.0\n"
     ]
    }
   ],
   "source": [
    "def findMaxAverage(nums, k):  \n",
    "    max_num = float('-inf')\n",
    "    sum = 0\n",
    "    initialized = False\n",
    "    for i in range(len(nums)):  \n",
    "        if i < k: \n",
    "            sum += nums[i]\n",
    "        else:   \n",
    "            if sum > max_num: \n",
    "                max_num = sum\n",
    "                initialized = True\n",
    "            sum = sum - nums[i- k] + nums[i]\n",
    "    return max(max_num/float(k),sum/float(k)) if initialized else sum/float(k)\n",
    "    \n",
    "\n",
    "print(findMaxAverage([1,12,-5,-6,50,3],4))\n",
    "print(findMaxAverage([5],1))"
   ]
  },
  {
   "cell_type": "markdown",
   "id": "3e04258d",
   "metadata": {},
   "source": [
    "# Medium"
   ]
  },
  {
   "cell_type": "markdown",
   "id": "fae71efd",
   "metadata": {},
   "source": [
    "### Linked List"
   ]
  },
  {
   "cell_type": "markdown",
   "id": "0a5d7d06",
   "metadata": {},
   "source": [
    "#### 24. Swap Nodes in Pairs\n",
    "- Given a linked list, swap every two adjacent nodes and return its head. You must solve the problem without modifying the values in the list's nodes (i.e., only nodes themselves may be changed.)"
   ]
  },
  {
   "cell_type": "code",
   "execution_count": null,
   "id": "af8572bc",
   "metadata": {},
   "outputs": [
    {
     "name": "stdout",
     "output_type": "stream",
     "text": [
      "2,1,4,3\n",
      "2,1,3\n",
      "2,1\n",
      "1\n",
      "\n"
     ]
    }
   ],
   "source": [
    "from typing import Optional\n",
    "\n",
    "class Solution(object):\n",
    "\n",
    "    \n",
    "    def swapPairs(self, head):\n",
    "\n",
    "        return self.swap(self,head,None,None,False)\n",
    "    \n",
    "    def swap(self,head: Optional[ListNode],const_head: Optional[ListNode],prev: Optional[object],first: bool): \n",
    "        curr = head\n",
    "\n",
    "        if not curr or not curr.next:\n",
    "            return const_head if const_head else curr\n",
    "\n",
    "        curr_next = curr.next\n",
    "\n",
    "        if prev: prev.next = curr.next\n",
    "        curr.next = curr_next.next\n",
    "        curr_next.next = curr\n",
    "       \n",
    "        if not first:\n",
    "            const_head = curr_next\n",
    "            first = True\n",
    "        return self.swap(self,curr.next,const_head,curr,first)\n",
    "    \n",
    "     \n",
    "test1 = create_list([1,2,3,4])\n",
    "test1Sol = Solution.swapPairs(Solution,test1)\n",
    "print_list(test1Sol)\n",
    "\n",
    "test2 = create_list([1,2,3])\n",
    "test2Sol = Solution.swapPairs(Solution,test2)\n",
    "print_list(test2Sol)\n",
    "\n",
    "test3 = create_list([1,2])\n",
    "test3Sol = Solution.swapPairs(Solution,test3)\n",
    "print_list(test3Sol)\n",
    "\n",
    "test4 = create_list([1])\n",
    "test4Sol = Solution.swapPairs(Solution,test4)\n",
    "print_list(test4Sol)\n",
    "\n",
    "test5Sol = Solution.swapPairs(Solution,None)\n",
    "print_list(test5Sol)\n",
    "\n"
   ]
  },
  {
   "cell_type": "markdown",
   "id": "0c446e4f",
   "metadata": {},
   "source": [
    "### Hash Map"
   ]
  },
  {
   "cell_type": "markdown",
   "id": "64baf74d",
   "metadata": {},
   "source": [
    "#### 36. Valid Sudoku\n",
    "- Determine if a 9 x 9 Sudoku board is valid. Only the filled cells need to be validated according to the following rules:\n",
    "\n",
    "    1. Each row must contain the digits 1-9 without repetition.\n",
    "    2. Each column must contain the digits 1-9 without repetition.\n",
    "    3. Each of the nine 3 x 3 sub-boxes of the grid must contain the digits 1-9 without repetition.\n"
   ]
  },
  {
   "cell_type": "code",
   "execution_count": 6,
   "id": "34f3ac95",
   "metadata": {},
   "outputs": [
    {
     "name": "stdout",
     "output_type": "stream",
     "text": [
      "{'name': 'King', 3: 25}\n",
      "5\n",
      "3\n",
      ".\n",
      ".\n",
      "7\n",
      ".\n",
      ".\n",
      ".\n",
      ".\n",
      "6\n",
      ".\n",
      ".\n",
      "1\n",
      "9\n",
      "5\n",
      ".\n",
      ".\n",
      ".\n",
      ".\n",
      "9\n",
      "8\n",
      ".\n",
      ".\n",
      ".\n",
      ".\n",
      "6\n",
      ".\n",
      "8\n",
      ".\n",
      ".\n",
      ".\n",
      "6\n",
      ".\n",
      ".\n",
      ".\n",
      "3\n",
      "4\n",
      ".\n",
      ".\n",
      "8\n",
      ".\n",
      "3\n",
      ".\n",
      ".\n",
      "1\n",
      "7\n",
      ".\n",
      ".\n",
      ".\n",
      "2\n",
      ".\n",
      ".\n",
      ".\n",
      "6\n",
      ".\n",
      "6\n",
      ".\n",
      ".\n",
      ".\n",
      ".\n",
      "2\n",
      "8\n",
      ".\n",
      ".\n",
      ".\n",
      ".\n",
      "4\n",
      "1\n",
      "9\n",
      ".\n",
      ".\n",
      "5\n",
      ".\n",
      ".\n",
      ".\n",
      ".\n",
      "8\n",
      ".\n",
      ".\n",
      "7\n",
      "9\n"
     ]
    },
    {
     "data": {
      "text/plain": [
       "'\\n:type board: List[List[str]]\\n:rtype: bool\\n'"
      ]
     },
     "execution_count": 6,
     "metadata": {},
     "output_type": "execute_result"
    }
   ],
   "source": [
    "def isValidSudoku(board):\n",
    "\n",
    "    table = {}\n",
    "    table[\"name\"] = \"King\"\n",
    "    table[3] = 25\n",
    "    print(table)\n",
    "\n",
    "    for row in board:\n",
    "        for element in row:\n",
    "            print(element)\n",
    "\n",
    "board = [[\"5\",\"3\",\".\",\".\",\"7\",\".\",\".\",\".\",\".\"]\n",
    ",[\"6\",\".\",\".\",\"1\",\"9\",\"5\",\".\",\".\",\".\"]\n",
    ",[\".\",\"9\",\"8\",\".\",\".\",\".\",\".\",\"6\",\".\"]\n",
    ",[\"8\",\".\",\".\",\".\",\"6\",\".\",\".\",\".\",\"3\"]\n",
    ",[\"4\",\".\",\".\",\"8\",\".\",\"3\",\".\",\".\",\"1\"]\n",
    ",[\"7\",\".\",\".\",\".\",\"2\",\".\",\".\",\".\",\"6\"]\n",
    ",[\".\",\"6\",\".\",\".\",\".\",\".\",\"2\",\"8\",\".\"]\n",
    ",[\".\",\".\",\".\",\"4\",\"1\",\"9\",\".\",\".\",\"5\"]\n",
    ",[\".\",\".\",\".\",\".\",\"8\",\".\",\".\",\"7\",\"9\"]]\n",
    "\n",
    "isValidSudoku(board)\n",
    "\n",
    "\"\"\"\n",
    ":type board: List[List[str]]\n",
    ":rtype: bool\n",
    "\"\"\"\n"
   ]
  },
  {
   "cell_type": "markdown",
   "id": "0390642d",
   "metadata": {},
   "source": [
    "### Binary Search\n"
   ]
  },
  {
   "cell_type": "markdown",
   "id": "934a7648",
   "metadata": {},
   "source": [
    "#### 153. Find Minimum in Rotated Sorted Array"
   ]
  },
  {
   "cell_type": "markdown",
   "id": "ec8f8178",
   "metadata": {},
   "source": [
    "- Suppose an array of length n sorted in ascending order is rotated between 1 and n times. For example, the array nums = [0,1,2,4,5,6,7] might become:\n",
    "\n",
    "    - [4,5,6,7,0,1,2,3] if it was rotated 4 times.\n",
    "    - [0,1,2,3,4,5,6,7] if it was rotated 7 times."
   ]
  },
  {
   "cell_type": "code",
   "execution_count": null,
   "id": "94646b2b",
   "metadata": {},
   "outputs": [],
   "source": [
    "def findMin(self, nums):\n",
    "    \n",
    "    curr = 0\n",
    "    left = curr *2 + 1\n",
    "    right = curr *2 + 2\n",
    "    min = min(curr,left,right)\n",
    "\n",
    "    while right < len(nums):\n",
    "        \n",
    "        return\n",
    "    \n",
    "    \n",
    "    \"\"\"\n",
    "    :type nums: List[int]\n",
    "    :rtype: int\n",
    "    \"\"\""
   ]
  },
  {
   "cell_type": "markdown",
   "id": "a8fe7267",
   "metadata": {},
   "source": [
    "### Sliding window"
   ]
  },
  {
   "cell_type": "markdown",
   "id": "6178c73a",
   "metadata": {},
   "source": [
    "#### 3 Longest Substring Without Repeating Characters\n",
    "- Incomplete"
   ]
  },
  {
   "cell_type": "code",
   "execution_count": 35,
   "id": "d29bd09e",
   "metadata": {},
   "outputs": [
    {
     "name": "stdout",
     "output_type": "stream",
     "text": [
      "4\n"
     ]
    }
   ],
   "source": [
    "import string\n",
    "\n",
    "def lengthOfLongestSubstring(s):  \n",
    "    longest_word = \"\"\n",
    "    sub_seq = set()\n",
    "    last_letter = \"\"\n",
    "    index = 0\n",
    "\n",
    "    for char in s:  \n",
    "        if(char not in sub_seq): \n",
    "            sub_seq.add(char)\n",
    "            last_letter = char\n",
    "        else:   \n",
    "            if len(sub_seq) > len(longest_word):  \n",
    "                longest_word = \"\".join(sub_seq)\n",
    "                curr = sub_seq.pop()\n",
    "                sub_seq.clear()\n",
    "                sub_seq.add(last_letter)\n",
    "                sub_seq.add(char)\n",
    "\n",
    "    return max(len(longest_word),len(sub_seq))\n",
    "\n",
    "print(lengthOfLongestSubstring(\"anviaj\"))"
   ]
  },
  {
   "cell_type": "markdown",
   "id": "ef16e623",
   "metadata": {},
   "source": [
    "### Stack"
   ]
  },
  {
   "cell_type": "markdown",
   "id": "219c6d93",
   "metadata": {},
   "source": [
    "#### 155. Min Stack"
   ]
  },
  {
   "cell_type": "markdown",
   "id": "8cd58196",
   "metadata": {},
   "source": [
    "- Design a stack that supports push, pop, top, and retrieving the minimum element in constant time.\n",
    "\n",
    "Implement the MinStack class:\n",
    "\n",
    "    MinStack() initializes the stack object.\n",
    "    void push(int val) pushes the element val onto the stack.\n",
    "    void pop() removes the element on the top of the stack.\n",
    "    int top() gets the top element of the stack.\n",
    "    int getMin() retrieves the minimum element in the stack.\n",
    "\n",
    "You must implement a solution with O(1) time complexity for each function."
   ]
  },
  {
   "cell_type": "code",
   "execution_count": 75,
   "id": "7741dae4",
   "metadata": {},
   "outputs": [
    {
     "name": "stdout",
     "output_type": "stream",
     "text": [
      "-3\n",
      "0\n",
      "-2\n"
     ]
    }
   ],
   "source": [
    "class MinStack(object):\n",
    "    def __init__(self):\n",
    "        self.my_list = []\n",
    "        self.min_num = []\n",
    "\n",
    "    def push(self, val):\n",
    "        self.my_list.append(val)\n",
    "        if not self.min_num or self.my_list[-1] <= self.min_num[-1]:\n",
    "            self.min_num.append(val)\n",
    "        \n",
    "    def pop(self):\n",
    "        val = self.my_list.pop()\n",
    "        if val == self.min_num[-1]:\n",
    "             self.min_num.pop()\n",
    "        return val\n",
    "        \n",
    "\n",
    "    def top(self):\n",
    "       return self.my_list[-1]\n",
    "        \n",
    "\n",
    "    def getMin(self):\n",
    "        return self.min_num[-1]\n",
    "\n",
    "minStack = MinStack()\n",
    "minStack.push(-2)\n",
    "minStack.push(0)\n",
    "minStack.push(-3)\n",
    "print(minStack.getMin()) # return -3\n",
    "minStack.pop()\n",
    "print(minStack.top())    # return 0\n",
    "print(minStack.getMin()) # return -2"
   ]
  },
  {
   "cell_type": "markdown",
   "id": "e3d70b6c",
   "metadata": {},
   "source": [
    "#### 739. Daily Temperatures"
   ]
  },
  {
   "cell_type": "markdown",
   "id": "adaa132d",
   "metadata": {},
   "source": [
    "- Given an array of integers temperatures represents the daily temperatures, return an array answer such that answer[i] is the number of days you have to wait after the ith day to get a warmer temperature. If there is no future day for which this is possible, keep answer[i] == 0 instead."
   ]
  },
  {
   "cell_type": "code",
   "execution_count": 74,
   "id": "ae0aed42",
   "metadata": {},
   "outputs": [
    {
     "name": "stdout",
     "output_type": "stream",
     "text": [
      "[1, 1, 4, 2, 1, 1, 0, 0]\n",
      "[1, 1, 1, 0]\n",
      "[1, 1, 0]\n",
      "[8, 1, 5, 4, 3, 2, 1, 1, 0, 0]\n"
     ]
    }
   ],
   "source": [
    "# def dailyTemperatures(temperatures):\n",
    "#     answer = [0] * len(temperatures)\n",
    "#     stack = []\n",
    "\n",
    "#     for i in range(len(temperatures)):\n",
    "        \n",
    "#         if not stack:\n",
    "#             stack.append(i)\n",
    "#         else:\n",
    "#             top = stack.pop()\n",
    "#             while temperatures[i] > temperatures[top]:  \n",
    "#                 answer[top] = i - top\n",
    "#                 if not stack:   break\n",
    "#                 top = stack.pop()    \n",
    "#             if temperatures[i] <= temperatures[top]:\n",
    "#                 stack.append(top)\n",
    "#                 stack.append(i)\n",
    "#             else:\n",
    "#                 stack.append(i)\n",
    "#     return answer\n",
    "\n",
    "# V2 - trying to optimize - working in vs code and not working in leetcode needs python 3.8+ due to walrus in indexing\n",
    "\n",
    "def dailyTemperatures(temperatures):\n",
    "    answer = [0] * len(temperatures)\n",
    "    stack = []\n",
    "\n",
    "    for i in range(len(temperatures)):        \n",
    "        if not stack:\n",
    "            stack.append(i)\n",
    "        else:\n",
    "            while stack and temperatures[i] > temperatures[top := stack[-1]]:  \n",
    "                answer[top] = i - top\n",
    "                stack.pop()   \n",
    "                if not stack: break\n",
    "            stack.append(i)\n",
    "    return answer\n",
    "\n",
    "print(dailyTemperatures([73,74,75,71,69,72,76,73]))\n",
    "print(dailyTemperatures([30,40,50,60]))\n",
    "print(dailyTemperatures([30,60,90]))\n",
    "print(dailyTemperatures([89,62,70,58,47,47,46,76,100,70]))\n"
   ]
  },
  {
   "cell_type": "markdown",
   "id": "b82f8e44",
   "metadata": {},
   "source": [
    "### Two Pointers"
   ]
  },
  {
   "cell_type": "markdown",
   "id": "be488e87",
   "metadata": {},
   "source": [
    "#### 167. Two Sum II - Input Array Is Sorted"
   ]
  },
  {
   "cell_type": "markdown",
   "id": "e9821011",
   "metadata": {},
   "source": [
    "- Given a 1-indexed array of integers numbers that is already sorted in non-decreasing order, find two numbers such that they add up to a specific target number. Let these two numbers be numbers[index1] and numbers[index2] where 1 <= index1 < index2 <= numbers.length. \n",
    "- Return the indices of the two numbers, index1 and index2, added by one as an integer array [index1, index2] of length 2.\n",
    "- The tests are generated such that there is exactly one solution. You may not use the same element twice.\n",
    "- Your solution must use only constant extra space."
   ]
  },
  {
   "cell_type": "code",
   "execution_count": 34,
   "id": "07e83af4",
   "metadata": {},
   "outputs": [
    {
     "name": "stdout",
     "output_type": "stream",
     "text": [
      "[1, 2]\n",
      "[1, 3]\n",
      "[1, 2]\n"
     ]
    }
   ],
   "source": [
    "def twoSum(numbers, target):\n",
    "    left = 0\n",
    "    right = len(numbers) - 1\n",
    "    sum_elements = sum([numbers[left], numbers[right]])\n",
    "    while sum_elements != target and right != left:\n",
    "        if sum_elements < target:\n",
    "            left += 1\n",
    "        elif sum_elements > target:\n",
    "            right -= 1\n",
    "        sum_elements = sum([numbers[left], numbers[right]])\n",
    "    return [left + 1,right + 1]\n",
    "\n",
    "print(twoSum([2,7,11,15], 9))\n",
    "print(twoSum([2,3,4], 6))\n",
    "print(twoSum([-1,0],-1))"
   ]
  }
 ],
 "metadata": {
  "kernelspec": {
   "display_name": "base",
   "language": "python",
   "name": "python3"
  },
  "language_info": {
   "codemirror_mode": {
    "name": "ipython",
    "version": 3
   },
   "file_extension": ".py",
   "mimetype": "text/x-python",
   "name": "python",
   "nbconvert_exporter": "python",
   "pygments_lexer": "ipython3",
   "version": "3.13.5"
  }
 },
 "nbformat": 4,
 "nbformat_minor": 5
}
