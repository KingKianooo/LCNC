{
 "cells": [
  {
   "cell_type": "markdown",
   "id": "486be465",
   "metadata": {},
   "source": [
    "# Data Structures"
   ]
  },
  {
   "cell_type": "markdown",
   "id": "435c8a79",
   "metadata": {},
   "source": [
    "### Linked List "
   ]
  },
  {
   "cell_type": "code",
   "execution_count": 195,
   "id": "25ac8caf",
   "metadata": {},
   "outputs": [],
   "source": [
    "from typing import List\n",
    "\n",
    "class ListNode:\n",
    "    def __init__(self, val=0, next=None):\n",
    "        self.val = val\n",
    "        self.next = next\n",
    "        \n",
    "def create_list(arr: List[int]) -> ListNode:\n",
    "    head = ListNode(arr[0])\n",
    "    current = head\n",
    "    for val in arr[1:]:\n",
    "        current.next = ListNode(val)\n",
    "        current = current.next\n",
    "    return head\n",
    "\n",
    "# tail points to head\n",
    "def create_circular_list(arr: List[int]) -> ListNode:\n",
    "    head = ListNode(arr[0])\n",
    "    current = head\n",
    "    for val in arr[1:]:\n",
    "        current.next = ListNode(val)\n",
    "        current = current.next\n",
    "    current.next = head\n",
    "    return head"
   ]
  },
  {
   "cell_type": "markdown",
   "id": "5ed74e7b",
   "metadata": {},
   "source": [
    "# Easy"
   ]
  },
  {
   "cell_type": "markdown",
   "id": "95eca478",
   "metadata": {},
   "source": [
    "#### 3136. Valid Word"
   ]
  },
  {
   "cell_type": "code",
   "execution_count": 37,
   "id": "063c938e",
   "metadata": {},
   "outputs": [
    {
     "data": {
      "text/plain": [
       "True"
      ]
     },
     "execution_count": 37,
     "metadata": {},
     "output_type": "execute_result"
    }
   ],
   "source": [
    "import string\n",
    "\n",
    "def isValid(word):\n",
    "    vowels = {'a','e','i','o','u'}\n",
    "    special_chars = {'@', '#', '$'}\n",
    "    \n",
    "    vowel = False\n",
    "    consonant = False\n",
    "\n",
    "    if len(word) < 3:\n",
    "        return False\n",
    "    \n",
    "    for char in word:   \n",
    "        if char in string.ascii_letters:    \n",
    "            if char in vowels and not vowel:  \n",
    "                vowel = True\n",
    "            elif char in string.ascii_letters and char not in vowels and not consonant:   \n",
    "                consonant = True  \n",
    "        elif char not in special_chars and char not in string.digits and char not in string.ascii_letters:    \n",
    "            return False\n",
    "    \n",
    "    if vowel and consonant:\n",
    "        return True\n",
    "    else:   \n",
    "        return False\n",
    "\n",
    "isValid(\"234Adas\")\n"
   ]
  },
  {
   "cell_type": "markdown",
   "id": "c123416d",
   "metadata": {},
   "source": [
    "### Hash Table, Linked List, Two Pointers"
   ]
  },
  {
   "cell_type": "markdown",
   "id": "ba750ec3",
   "metadata": {},
   "source": [
    "#### 141. Linked List Cycle\n",
    "\n",
    "- There is a cycle in a linked list if there is some node in the list that can be reached again by continuously following the next pointer. Internally, pos is used to denote the index of the node that tail's next pointer is connected to. Note that pos is not passed as a parameter.\n",
    "\n",
    "Return true if there is a cycle in the linked list. Otherwise, return false."
   ]
  },
  {
   "cell_type": "code",
   "execution_count": 198,
   "id": "c5dfb3c2",
   "metadata": {},
   "outputs": [
    {
     "name": "stdout",
     "output_type": "stream",
     "text": [
      "True\n"
     ]
    }
   ],
   "source": [
    "def hasCycle(head):\n",
    "        ptr1 = ptr2 = head\n",
    "        while ptr1 and ptr1.next and ptr2.next and ptr2.next.next:  \n",
    "            ptr1 = ptr1.next\n",
    "            ptr2 = ptr2.next.next\n",
    "            if ptr1 == ptr2:    \n",
    "                return True\n",
    "        return False \n",
    "\n",
    "head = create_circular_list([3,2,0,-4])\n",
    "print(hasCycle(head))"
   ]
  },
  {
   "cell_type": "markdown",
   "id": "f367377b",
   "metadata": {},
   "source": [
    "### Sliding Window\n"
   ]
  },
  {
   "cell_type": "markdown",
   "id": "1802653a",
   "metadata": {},
   "source": [
    "#### 643. Maximum Average Subarray I\n",
    "- You are given an integer array nums consisting of n elements, and an integer k.\n",
    "\n",
    "Find a contiguous subarray whose length is equal to k that has the maximum average value and return this value. Any answer with a calculation error less than 10-5 will be accepted."
   ]
  },
  {
   "cell_type": "code",
   "execution_count": 42,
   "id": "14d1be9e",
   "metadata": {},
   "outputs": [
    {
     "name": "stdout",
     "output_type": "stream",
     "text": [
      "12.75\n",
      "5.0\n"
     ]
    }
   ],
   "source": [
    "def findMaxAverage(nums, k):  \n",
    "    max_num = float('-inf')\n",
    "    sum = 0\n",
    "    initialized = False\n",
    "    for i in range(len(nums)):  \n",
    "        if i < k: \n",
    "            sum += nums[i]\n",
    "        else:   \n",
    "            if sum > max_num: \n",
    "                max_num = sum\n",
    "                initialized = True\n",
    "            sum = sum - nums[i- k] + nums[i]\n",
    "    return max(max_num/float(k),sum/float(k)) if initialized else sum/float(k)\n",
    "    \n",
    "\n",
    "print(findMaxAverage([1,12,-5,-6,50,3],4))\n",
    "print(findMaxAverage([5],1))"
   ]
  },
  {
   "cell_type": "markdown",
   "id": "3e04258d",
   "metadata": {},
   "source": [
    "# Medium"
   ]
  },
  {
   "cell_type": "markdown",
   "id": "a8fe7267",
   "metadata": {},
   "source": [
    "### Sliding window"
   ]
  },
  {
   "cell_type": "markdown",
   "id": "6178c73a",
   "metadata": {},
   "source": [
    "#### 3 Longest Substring Without Repeating Characters\n",
    "- Incomplete"
   ]
  },
  {
   "cell_type": "code",
   "execution_count": 35,
   "id": "d29bd09e",
   "metadata": {},
   "outputs": [
    {
     "name": "stdout",
     "output_type": "stream",
     "text": [
      "4\n"
     ]
    }
   ],
   "source": [
    "import string\n",
    "\n",
    "def lengthOfLongestSubstring(s):  \n",
    "    longest_word = \"\"\n",
    "    sub_seq = set()\n",
    "    last_letter = \"\"\n",
    "    index = 0\n",
    "\n",
    "    for char in s:  \n",
    "        if(char not in sub_seq): \n",
    "            sub_seq.add(char)\n",
    "            last_letter = char\n",
    "        else:   \n",
    "            if len(sub_seq) > len(longest_word):  \n",
    "                longest_word = \"\".join(sub_seq)\n",
    "                curr = sub_seq.pop()\n",
    "                sub_seq.clear()\n",
    "                sub_seq.add(last_letter)\n",
    "                sub_seq.add(char)\n",
    "\n",
    "    return max(len(longest_word),len(sub_seq))\n",
    "\n",
    "print(lengthOfLongestSubstring(\"anviaj\"))"
   ]
  },
  {
   "cell_type": "markdown",
   "id": "ef16e623",
   "metadata": {},
   "source": [
    "### Stack"
   ]
  },
  {
   "cell_type": "markdown",
   "id": "e3d70b6c",
   "metadata": {},
   "source": [
    "##### 739. Daily Temperatures\n",
    "- Given an array of integers temperatures represents the daily temperatures, return an array answer such that answer[i] is the number of days you have to wait after the ith day to get a warmer temperature. If there is no future day for which this is possible, keep answer[i] == 0 instead."
   ]
  },
  {
   "cell_type": "code",
   "execution_count": null,
   "id": "ae0aed42",
   "metadata": {},
   "outputs": [
    {
     "name": "stdout",
     "output_type": "stream",
     "text": [
      "[1, 1, 4, 2, 1, 1, 0, 0]\n",
      "[1, 1, 1, 0]\n",
      "[1, 1, 0]\n",
      "[8, 1, 5, 4, 3, 2, 1, 1, 0, 0]\n"
     ]
    }
   ],
   "source": [
    "# def dailyTemperatures(temperatures):\n",
    "#     answer = [0] * len(temperatures)\n",
    "#     stack = []\n",
    "\n",
    "#     for i in range(len(temperatures)):\n",
    "        \n",
    "#         if not stack:\n",
    "#             stack.append(i)\n",
    "#         else:\n",
    "#             top = stack.pop()\n",
    "#             while temperatures[i] > temperatures[top]:  \n",
    "#                 answer[top] = i - top\n",
    "#                 if not stack:   break\n",
    "#                 top = stack.pop()    \n",
    "#             if temperatures[i] <= temperatures[top]:\n",
    "#                 stack.append(top)\n",
    "#                 stack.append(i)\n",
    "#             else:\n",
    "#                 stack.append(i)\n",
    "#     return answer\n",
    "\n",
    "# V2 - trying to optimize - working in vs code and not working in leetcode needs python 3.8+ due to walrus in indexing\n",
    "\n",
    "def dailyTemperatures(temperatures):\n",
    "    answer = [0] * len(temperatures)\n",
    "    stack = []\n",
    "\n",
    "    for i in range(len(temperatures)):        \n",
    "        if not stack:\n",
    "            stack.append(i)\n",
    "        else:\n",
    "            while stack and temperatures[i] > temperatures[top := stack[-1]]:  \n",
    "                answer[top] = i - top\n",
    "                stack.pop()   \n",
    "                if not stack: break\n",
    "            stack.append(i)\n",
    "    return answer\n",
    "\n",
    "print(dailyTemperatures([73,74,75,71,69,72,76,73]))\n",
    "print(dailyTemperatures([30,40,50,60]))\n",
    "print(dailyTemperatures([30,60,90]))\n",
    "print(dailyTemperatures([89,62,70,58,47,47,46,76,100,70]))\n"
   ]
  }
 ],
 "metadata": {
  "kernelspec": {
   "display_name": "base",
   "language": "python",
   "name": "python3"
  },
  "language_info": {
   "codemirror_mode": {
    "name": "ipython",
    "version": 3
   },
   "file_extension": ".py",
   "mimetype": "text/x-python",
   "name": "python",
   "nbconvert_exporter": "python",
   "pygments_lexer": "ipython3",
   "version": "3.13.5"
  }
 },
 "nbformat": 4,
 "nbformat_minor": 5
}
